{
  "nbformat": 4,
  "nbformat_minor": 0,
  "metadata": {
    "colab": {
      "name": "KeyPhraseExtraction",
      "provenance": [],
      "include_colab_link": true
    },
    "kernelspec": {
      "name": "python3",
      "display_name": "Python 3"
    }
  },
  "cells": [
    {
      "cell_type": "markdown",
      "metadata": {
        "id": "view-in-github",
        "colab_type": "text"
      },
      "source": [
        "<a href=\"https://colab.research.google.com/github/Anirudh-R-1201/RecommendationSystem/blob/master/KeyPhraseExtraction.ipynb\" target=\"_parent\"><img src=\"https://colab.research.google.com/assets/colab-badge.svg\" alt=\"Open In Colab\"/></a>"
      ]
    },
    {
      "cell_type": "code",
      "metadata": {
        "id": "1CrhzEli6NP9",
        "colab": {
          "resources": {
            "http://localhost:8080/nbextensions/google.colab/files.js": {
              "data": "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",
              "ok": true,
              "headers": [
                [
                  "content-type",
                  "application/javascript"
                ]
              ],
              "status": 200,
              "status_text": ""
            }
          },
          "base_uri": "https://localhost:8080/",
          "height": 72
        },
        "outputId": "cb8f4ab8-377d-489c-fb89-6911391f5777"
      },
      "source": [
        "from google.colab import files \n",
        "uploaded = files.upload()"
      ],
      "execution_count": null,
      "outputs": [
        {
          "output_type": "display_data",
          "data": {
            "text/html": [
              "\n",
              "     <input type=\"file\" id=\"files-fe983c72-7d48-4079-acea-8b2607105eef\" name=\"files[]\" multiple disabled\n",
              "        style=\"border:none\" />\n",
              "     <output id=\"result-fe983c72-7d48-4079-acea-8b2607105eef\">\n",
              "      Upload widget is only available when the cell has been executed in the\n",
              "      current browser session. Please rerun this cell to enable.\n",
              "      </output>\n",
              "      <script src=\"/nbextensions/google.colab/files.js\"></script> "
            ],
            "text/plain": [
              "<IPython.core.display.HTML object>"
            ]
          },
          "metadata": {
            "tags": []
          }
        },
        {
          "output_type": "stream",
          "text": [
            "Saving PlayStoreReviews_India_Aug8.xlsx to PlayStoreReviews_India_Aug8.xlsx\n"
          ],
          "name": "stdout"
        }
      ]
    },
    {
      "cell_type": "code",
      "metadata": {
        "id": "CFIDokwc6tjV"
      },
      "source": [
        "import pandas as pd \n",
        "import io \n",
        "df = pd.read_excel(io.BytesIO(uploaded['PlayStoreReviews_India_Aug8.xlsx'])) \n",
        "df2 = df"
      ],
      "execution_count": null,
      "outputs": []
    },
    {
      "cell_type": "code",
      "metadata": {
        "id": "Z_4SfYVfM1RR",
        "colab": {
          "base_uri": "https://localhost:8080/",
          "height": 272
        },
        "outputId": "79a3fe0d-7e7d-4b6b-c80e-583c2712e742"
      },
      "source": [
        "count = df.groupby(\"Review\", as_index=False).count()\n",
        "mean = df.groupby(\"Review\", as_index=False).mean()\n",
        "df_temp = pd.merge(df, count, how='right', on=['Review'])\n",
        "df_temp = pd.merge(df_temp, mean, how='right', on=['Review'])\n",
        "df_temp[:5]"
      ],
      "execution_count": null,
      "outputs": [
        {
          "output_type": "execute_result",
          "data": {
            "text/html": [
              "<div>\n",
              "<style scoped>\n",
              "    .dataframe tbody tr th:only-of-type {\n",
              "        vertical-align: middle;\n",
              "    }\n",
              "\n",
              "    .dataframe tbody tr th {\n",
              "        vertical-align: top;\n",
              "    }\n",
              "\n",
              "    .dataframe thead th {\n",
              "        text-align: right;\n",
              "    }\n",
              "</style>\n",
              "<table border=\"1\" class=\"dataframe\">\n",
              "  <thead>\n",
              "    <tr style=\"text-align: right;\">\n",
              "      <th></th>\n",
              "      <th>Country_x</th>\n",
              "      <th>App_x</th>\n",
              "      <th>Date_x</th>\n",
              "      <th>Customer_x</th>\n",
              "      <th>Rating_x</th>\n",
              "      <th>Review</th>\n",
              "      <th>Country_y</th>\n",
              "      <th>App_y</th>\n",
              "      <th>Date_y</th>\n",
              "      <th>Customer_y</th>\n",
              "      <th>Rating_y</th>\n",
              "      <th>Rating</th>\n",
              "    </tr>\n",
              "  </thead>\n",
              "  <tbody>\n",
              "    <tr>\n",
              "      <th>0</th>\n",
              "      <td>India</td>\n",
              "      <td>HSBC</td>\n",
              "      <td>July 21, 2020</td>\n",
              "      <td>Sam Joseph GodMan.J</td>\n",
              "      <td>1</td>\n",
              "      <td>I never used a worst banking app like this. I ...</td>\n",
              "      <td>1</td>\n",
              "      <td>1</td>\n",
              "      <td>1</td>\n",
              "      <td>1</td>\n",
              "      <td>1</td>\n",
              "      <td>1</td>\n",
              "    </tr>\n",
              "    <tr>\n",
              "      <th>1</th>\n",
              "      <td>India</td>\n",
              "      <td>HSBC</td>\n",
              "      <td>July 14, 2020</td>\n",
              "      <td>Abhinav Saraswat</td>\n",
              "      <td>1</td>\n",
              "      <td>Worst app i ever seen, goverment bank SBI Appl...</td>\n",
              "      <td>1</td>\n",
              "      <td>1</td>\n",
              "      <td>1</td>\n",
              "      <td>1</td>\n",
              "      <td>1</td>\n",
              "      <td>1</td>\n",
              "    </tr>\n",
              "    <tr>\n",
              "      <th>2</th>\n",
              "      <td>India</td>\n",
              "      <td>HSBC</td>\n",
              "      <td>July 19, 2020</td>\n",
              "      <td>Vikas Kumar</td>\n",
              "      <td>1</td>\n",
              "      <td>Worst app ever i am using this app from last 1...</td>\n",
              "      <td>1</td>\n",
              "      <td>1</td>\n",
              "      <td>1</td>\n",
              "      <td>1</td>\n",
              "      <td>1</td>\n",
              "      <td>1</td>\n",
              "    </tr>\n",
              "    <tr>\n",
              "      <th>3</th>\n",
              "      <td>India</td>\n",
              "      <td>HSBC</td>\n",
              "      <td>June 4, 2020</td>\n",
              "      <td>Kalakar Baba</td>\n",
              "      <td>1</td>\n",
              "      <td>Application working fine but it is features le...</td>\n",
              "      <td>1</td>\n",
              "      <td>1</td>\n",
              "      <td>1</td>\n",
              "      <td>1</td>\n",
              "      <td>1</td>\n",
              "      <td>1</td>\n",
              "    </tr>\n",
              "    <tr>\n",
              "      <th>4</th>\n",
              "      <td>India</td>\n",
              "      <td>HSBC</td>\n",
              "      <td>May 26, 2020</td>\n",
              "      <td>anup kalshetty</td>\n",
              "      <td>1</td>\n",
              "      <td>Worst banking app if compared to other apps li...</td>\n",
              "      <td>1</td>\n",
              "      <td>1</td>\n",
              "      <td>1</td>\n",
              "      <td>1</td>\n",
              "      <td>1</td>\n",
              "      <td>1</td>\n",
              "    </tr>\n",
              "  </tbody>\n",
              "</table>\n",
              "</div>"
            ],
            "text/plain": [
              "  Country_x App_x         Date_x  ... Customer_y  Rating_y Rating\n",
              "0     India  HSBC  July 21, 2020  ...          1         1      1\n",
              "1     India  HSBC  July 14, 2020  ...          1         1      1\n",
              "2     India  HSBC  July 19, 2020  ...          1         1      1\n",
              "3     India  HSBC   June 4, 2020  ...          1         1      1\n",
              "4     India  HSBC   May 26, 2020  ...          1         1      1\n",
              "\n",
              "[5 rows x 12 columns]"
            ]
          },
          "metadata": {
            "tags": []
          },
          "execution_count": 4
        }
      ]
    },
    {
      "cell_type": "code",
      "metadata": {
        "id": "rLjQXEtLOyOx",
        "colab": {
          "base_uri": "https://localhost:8080/",
          "height": 514
        },
        "outputId": "e1ffab62-4185-4735-c1c5-12d807900505"
      },
      "source": [
        "df1 = df_temp.groupby(\"App_x\", as_index=False).mean()\n",
        "combine_summary = df_temp.groupby(\"App_x\")[\"Review\"].apply(list)\n",
        "combine_summary = pd.DataFrame(combine_summary)\n",
        "combine_summary.to_csv(\"combine_summary.csv\")\n",
        "df1"
      ],
      "execution_count": null,
      "outputs": [
        {
          "output_type": "execute_result",
          "data": {
            "text/html": [
              "<div>\n",
              "<style scoped>\n",
              "    .dataframe tbody tr th:only-of-type {\n",
              "        vertical-align: middle;\n",
              "    }\n",
              "\n",
              "    .dataframe tbody tr th {\n",
              "        vertical-align: top;\n",
              "    }\n",
              "\n",
              "    .dataframe thead th {\n",
              "        text-align: right;\n",
              "    }\n",
              "</style>\n",
              "<table border=\"1\" class=\"dataframe\">\n",
              "  <thead>\n",
              "    <tr style=\"text-align: right;\">\n",
              "      <th></th>\n",
              "      <th>App_x</th>\n",
              "      <th>Rating_x</th>\n",
              "      <th>Country_y</th>\n",
              "      <th>App_y</th>\n",
              "      <th>Date_y</th>\n",
              "      <th>Customer_y</th>\n",
              "      <th>Rating_y</th>\n",
              "      <th>Rating</th>\n",
              "    </tr>\n",
              "  </thead>\n",
              "  <tbody>\n",
              "    <tr>\n",
              "      <th>0</th>\n",
              "      <td>Axis Bank</td>\n",
              "      <td>2.365</td>\n",
              "      <td>1.00</td>\n",
              "      <td>1.00</td>\n",
              "      <td>1.00</td>\n",
              "      <td>1.00</td>\n",
              "      <td>1.00</td>\n",
              "      <td>2.365</td>\n",
              "    </tr>\n",
              "    <tr>\n",
              "      <th>1</th>\n",
              "      <td>Citi</td>\n",
              "      <td>2.365</td>\n",
              "      <td>1.00</td>\n",
              "      <td>1.00</td>\n",
              "      <td>1.00</td>\n",
              "      <td>1.00</td>\n",
              "      <td>1.00</td>\n",
              "      <td>2.365</td>\n",
              "    </tr>\n",
              "    <tr>\n",
              "      <th>2</th>\n",
              "      <td>Freecharge</td>\n",
              "      <td>2.170</td>\n",
              "      <td>1.00</td>\n",
              "      <td>1.00</td>\n",
              "      <td>1.00</td>\n",
              "      <td>1.00</td>\n",
              "      <td>1.00</td>\n",
              "      <td>2.170</td>\n",
              "    </tr>\n",
              "    <tr>\n",
              "      <th>3</th>\n",
              "      <td>HDFC Bank</td>\n",
              "      <td>1.310</td>\n",
              "      <td>1.01</td>\n",
              "      <td>1.01</td>\n",
              "      <td>1.01</td>\n",
              "      <td>1.01</td>\n",
              "      <td>1.01</td>\n",
              "      <td>1.310</td>\n",
              "    </tr>\n",
              "    <tr>\n",
              "      <th>4</th>\n",
              "      <td>HSBC</td>\n",
              "      <td>1.725</td>\n",
              "      <td>1.00</td>\n",
              "      <td>1.00</td>\n",
              "      <td>1.00</td>\n",
              "      <td>1.00</td>\n",
              "      <td>1.00</td>\n",
              "      <td>1.725</td>\n",
              "    </tr>\n",
              "    <tr>\n",
              "      <th>5</th>\n",
              "      <td>ICICI Bank</td>\n",
              "      <td>1.890</td>\n",
              "      <td>1.00</td>\n",
              "      <td>1.00</td>\n",
              "      <td>1.00</td>\n",
              "      <td>1.00</td>\n",
              "      <td>1.00</td>\n",
              "      <td>1.890</td>\n",
              "    </tr>\n",
              "    <tr>\n",
              "      <th>6</th>\n",
              "      <td>Kotak Bank</td>\n",
              "      <td>2.345</td>\n",
              "      <td>1.00</td>\n",
              "      <td>1.00</td>\n",
              "      <td>1.00</td>\n",
              "      <td>1.00</td>\n",
              "      <td>1.00</td>\n",
              "      <td>2.345</td>\n",
              "    </tr>\n",
              "    <tr>\n",
              "      <th>7</th>\n",
              "      <td>Mobikwik</td>\n",
              "      <td>2.090</td>\n",
              "      <td>1.00</td>\n",
              "      <td>1.00</td>\n",
              "      <td>1.00</td>\n",
              "      <td>1.00</td>\n",
              "      <td>1.00</td>\n",
              "      <td>2.090</td>\n",
              "    </tr>\n",
              "    <tr>\n",
              "      <th>8</th>\n",
              "      <td>PayTM</td>\n",
              "      <td>1.945</td>\n",
              "      <td>1.00</td>\n",
              "      <td>1.00</td>\n",
              "      <td>1.00</td>\n",
              "      <td>1.00</td>\n",
              "      <td>1.00</td>\n",
              "      <td>1.945</td>\n",
              "    </tr>\n",
              "    <tr>\n",
              "      <th>9</th>\n",
              "      <td>PayZapp</td>\n",
              "      <td>1.600</td>\n",
              "      <td>1.00</td>\n",
              "      <td>1.00</td>\n",
              "      <td>1.00</td>\n",
              "      <td>1.00</td>\n",
              "      <td>1.00</td>\n",
              "      <td>1.600</td>\n",
              "    </tr>\n",
              "    <tr>\n",
              "      <th>10</th>\n",
              "      <td>PhonePe</td>\n",
              "      <td>1.870</td>\n",
              "      <td>1.00</td>\n",
              "      <td>1.00</td>\n",
              "      <td>1.00</td>\n",
              "      <td>1.00</td>\n",
              "      <td>1.00</td>\n",
              "      <td>1.870</td>\n",
              "    </tr>\n",
              "    <tr>\n",
              "      <th>11</th>\n",
              "      <td>Pockets</td>\n",
              "      <td>1.720</td>\n",
              "      <td>1.00</td>\n",
              "      <td>1.00</td>\n",
              "      <td>1.00</td>\n",
              "      <td>1.00</td>\n",
              "      <td>1.00</td>\n",
              "      <td>1.720</td>\n",
              "    </tr>\n",
              "    <tr>\n",
              "      <th>12</th>\n",
              "      <td>SBI Cards</td>\n",
              "      <td>2.425</td>\n",
              "      <td>1.00</td>\n",
              "      <td>1.00</td>\n",
              "      <td>1.00</td>\n",
              "      <td>1.00</td>\n",
              "      <td>1.00</td>\n",
              "      <td>2.425</td>\n",
              "    </tr>\n",
              "    <tr>\n",
              "      <th>13</th>\n",
              "      <td>StandardChartered</td>\n",
              "      <td>1.435</td>\n",
              "      <td>1.00</td>\n",
              "      <td>1.00</td>\n",
              "      <td>1.00</td>\n",
              "      <td>1.00</td>\n",
              "      <td>1.00</td>\n",
              "      <td>1.435</td>\n",
              "    </tr>\n",
              "    <tr>\n",
              "      <th>14</th>\n",
              "      <td>Yono</td>\n",
              "      <td>1.630</td>\n",
              "      <td>1.00</td>\n",
              "      <td>1.00</td>\n",
              "      <td>1.00</td>\n",
              "      <td>1.00</td>\n",
              "      <td>1.00</td>\n",
              "      <td>1.630</td>\n",
              "    </tr>\n",
              "  </tbody>\n",
              "</table>\n",
              "</div>"
            ],
            "text/plain": [
              "                App_x  Rating_x  Country_y  ...  Customer_y  Rating_y  Rating\n",
              "0           Axis Bank     2.365       1.00  ...        1.00      1.00   2.365\n",
              "1                Citi     2.365       1.00  ...        1.00      1.00   2.365\n",
              "2          Freecharge     2.170       1.00  ...        1.00      1.00   2.170\n",
              "3           HDFC Bank     1.310       1.01  ...        1.01      1.01   1.310\n",
              "4                HSBC     1.725       1.00  ...        1.00      1.00   1.725\n",
              "5          ICICI Bank     1.890       1.00  ...        1.00      1.00   1.890\n",
              "6          Kotak Bank     2.345       1.00  ...        1.00      1.00   2.345\n",
              "7            Mobikwik     2.090       1.00  ...        1.00      1.00   2.090\n",
              "8               PayTM     1.945       1.00  ...        1.00      1.00   1.945\n",
              "9             PayZapp     1.600       1.00  ...        1.00      1.00   1.600\n",
              "10            PhonePe     1.870       1.00  ...        1.00      1.00   1.870\n",
              "11            Pockets     1.720       1.00  ...        1.00      1.00   1.720\n",
              "12          SBI Cards     2.425       1.00  ...        1.00      1.00   2.425\n",
              "13  StandardChartered     1.435       1.00  ...        1.00      1.00   1.435\n",
              "14               Yono     1.630       1.00  ...        1.00      1.00   1.630\n",
              "\n",
              "[15 rows x 8 columns]"
            ]
          },
          "metadata": {
            "tags": []
          },
          "execution_count": 5
        }
      ]
    },
    {
      "cell_type": "code",
      "metadata": {
        "id": "Q0HxqeyDNlwx",
        "colab": {
          "base_uri": "https://localhost:8080/",
          "height": 589
        },
        "outputId": "e01173e6-d23c-44dd-afbe-37e2d8a6877a"
      },
      "source": [
        "df2 = pd.read_csv(\"combine_summary.csv\")\n",
        "df2 = pd.merge(df2, df_temp, on=\"App_x\", how='inner')\n",
        "df2"
      ],
      "execution_count": null,
      "outputs": [
        {
          "output_type": "execute_result",
          "data": {
            "text/html": [
              "<div>\n",
              "<style scoped>\n",
              "    .dataframe tbody tr th:only-of-type {\n",
              "        vertical-align: middle;\n",
              "    }\n",
              "\n",
              "    .dataframe tbody tr th {\n",
              "        vertical-align: top;\n",
              "    }\n",
              "\n",
              "    .dataframe thead th {\n",
              "        text-align: right;\n",
              "    }\n",
              "</style>\n",
              "<table border=\"1\" class=\"dataframe\">\n",
              "  <thead>\n",
              "    <tr style=\"text-align: right;\">\n",
              "      <th></th>\n",
              "      <th>App_x</th>\n",
              "      <th>Review_x</th>\n",
              "      <th>Country_x</th>\n",
              "      <th>Date_x</th>\n",
              "      <th>Customer_x</th>\n",
              "      <th>Rating_x</th>\n",
              "      <th>Review_y</th>\n",
              "      <th>Country_y</th>\n",
              "      <th>App_y</th>\n",
              "      <th>Date_y</th>\n",
              "      <th>Customer_y</th>\n",
              "      <th>Rating_y</th>\n",
              "      <th>Rating</th>\n",
              "    </tr>\n",
              "  </thead>\n",
              "  <tbody>\n",
              "    <tr>\n",
              "      <th>0</th>\n",
              "      <td>Axis Bank</td>\n",
              "      <td>[\"The app is all good. I am using the account ...</td>\n",
              "      <td>India</td>\n",
              "      <td>5 August 2020</td>\n",
              "      <td>keshika khatri</td>\n",
              "      <td>4</td>\n",
              "      <td>The app is all good. I am using the account si...</td>\n",
              "      <td>1</td>\n",
              "      <td>1</td>\n",
              "      <td>1</td>\n",
              "      <td>1</td>\n",
              "      <td>1</td>\n",
              "      <td>4</td>\n",
              "    </tr>\n",
              "    <tr>\n",
              "      <th>1</th>\n",
              "      <td>Axis Bank</td>\n",
              "      <td>[\"The app is all good. I am using the account ...</td>\n",
              "      <td>India</td>\n",
              "      <td>5 August 2020</td>\n",
              "      <td>Jishant Singh</td>\n",
              "      <td>1</td>\n",
              "      <td>Horrible. Using credit card section. 1. Pay no...</td>\n",
              "      <td>1</td>\n",
              "      <td>1</td>\n",
              "      <td>1</td>\n",
              "      <td>1</td>\n",
              "      <td>1</td>\n",
              "      <td>1</td>\n",
              "    </tr>\n",
              "    <tr>\n",
              "      <th>2</th>\n",
              "      <td>Axis Bank</td>\n",
              "      <td>[\"The app is all good. I am using the account ...</td>\n",
              "      <td>India</td>\n",
              "      <td>5 August 2020</td>\n",
              "      <td>Pradeep S M</td>\n",
              "      <td>4</td>\n",
              "      <td>User Friendly But... Before corona time I can ...</td>\n",
              "      <td>1</td>\n",
              "      <td>1</td>\n",
              "      <td>1</td>\n",
              "      <td>1</td>\n",
              "      <td>1</td>\n",
              "      <td>4</td>\n",
              "    </tr>\n",
              "    <tr>\n",
              "      <th>3</th>\n",
              "      <td>Axis Bank</td>\n",
              "      <td>[\"The app is all good. I am using the account ...</td>\n",
              "      <td>India</td>\n",
              "      <td>28 July 2020</td>\n",
              "      <td>Joel George</td>\n",
              "      <td>5</td>\n",
              "      <td>Edit 2 - Excellent app. Serves the purpose bri...</td>\n",
              "      <td>1</td>\n",
              "      <td>1</td>\n",
              "      <td>1</td>\n",
              "      <td>1</td>\n",
              "      <td>1</td>\n",
              "      <td>5</td>\n",
              "    </tr>\n",
              "    <tr>\n",
              "      <th>4</th>\n",
              "      <td>Axis Bank</td>\n",
              "      <td>[\"The app is all good. I am using the account ...</td>\n",
              "      <td>India</td>\n",
              "      <td>21 July 2020</td>\n",
              "      <td>lavish mehta</td>\n",
              "      <td>1</td>\n",
              "      <td>I am still getting this stupid \"System under m...</td>\n",
              "      <td>1</td>\n",
              "      <td>1</td>\n",
              "      <td>1</td>\n",
              "      <td>1</td>\n",
              "      <td>1</td>\n",
              "      <td>1</td>\n",
              "    </tr>\n",
              "    <tr>\n",
              "      <th>...</th>\n",
              "      <td>...</td>\n",
              "      <td>...</td>\n",
              "      <td>...</td>\n",
              "      <td>...</td>\n",
              "      <td>...</td>\n",
              "      <td>...</td>\n",
              "      <td>...</td>\n",
              "      <td>...</td>\n",
              "      <td>...</td>\n",
              "      <td>...</td>\n",
              "      <td>...</td>\n",
              "      <td>...</td>\n",
              "      <td>...</td>\n",
              "    </tr>\n",
              "    <tr>\n",
              "      <th>2995</th>\n",
              "      <td>Yono</td>\n",
              "      <td>['The app is not at all good in its latest ver...</td>\n",
              "      <td>India</td>\n",
              "      <td>July 31, 2020</td>\n",
              "      <td>Lilly Anto</td>\n",
              "      <td>1</td>\n",
              "      <td>How many times I tried to login and not connec...</td>\n",
              "      <td>1</td>\n",
              "      <td>1</td>\n",
              "      <td>1</td>\n",
              "      <td>1</td>\n",
              "      <td>1</td>\n",
              "      <td>1</td>\n",
              "    </tr>\n",
              "    <tr>\n",
              "      <th>2996</th>\n",
              "      <td>Yono</td>\n",
              "      <td>['The app is not at all good in its latest ver...</td>\n",
              "      <td>India</td>\n",
              "      <td>June 20, 2020</td>\n",
              "      <td>Chippigiri Lakshmikantha</td>\n",
              "      <td>4</td>\n",
              "      <td>Yono pay section. Transfer to other bank accou...</td>\n",
              "      <td>1</td>\n",
              "      <td>1</td>\n",
              "      <td>1</td>\n",
              "      <td>1</td>\n",
              "      <td>1</td>\n",
              "      <td>4</td>\n",
              "    </tr>\n",
              "    <tr>\n",
              "      <th>2997</th>\n",
              "      <td>Yono</td>\n",
              "      <td>['The app is not at all good in its latest ver...</td>\n",
              "      <td>India</td>\n",
              "      <td>July 2, 2020</td>\n",
              "      <td>JAYPRAKASH JOSHI</td>\n",
              "      <td>4</td>\n",
              "      <td>But bill payment system takes 3 days. While ot...</td>\n",
              "      <td>1</td>\n",
              "      <td>1</td>\n",
              "      <td>1</td>\n",
              "      <td>1</td>\n",
              "      <td>1</td>\n",
              "      <td>4</td>\n",
              "    </tr>\n",
              "    <tr>\n",
              "      <th>2998</th>\n",
              "      <td>Yono</td>\n",
              "      <td>['The app is not at all good in its latest ver...</td>\n",
              "      <td>India</td>\n",
              "      <td>June 25, 2020</td>\n",
              "      <td>Sunil Kumar Pandit</td>\n",
              "      <td>1</td>\n",
              "      <td>my mobile is not rooted / using virtual enviro...</td>\n",
              "      <td>1</td>\n",
              "      <td>1</td>\n",
              "      <td>1</td>\n",
              "      <td>1</td>\n",
              "      <td>1</td>\n",
              "      <td>1</td>\n",
              "    </tr>\n",
              "    <tr>\n",
              "      <th>2999</th>\n",
              "      <td>Yono</td>\n",
              "      <td>['The app is not at all good in its latest ver...</td>\n",
              "      <td>India</td>\n",
              "      <td>July 27, 2020</td>\n",
              "      <td>Santhosh V B</td>\n",
              "      <td>1</td>\n",
              "      <td>Its really. .really bad application. No useful...</td>\n",
              "      <td>1</td>\n",
              "      <td>1</td>\n",
              "      <td>1</td>\n",
              "      <td>1</td>\n",
              "      <td>1</td>\n",
              "      <td>1</td>\n",
              "    </tr>\n",
              "  </tbody>\n",
              "</table>\n",
              "<p>3000 rows × 13 columns</p>\n",
              "</div>"
            ],
            "text/plain": [
              "          App_x  ... Rating\n",
              "0     Axis Bank  ...      4\n",
              "1     Axis Bank  ...      1\n",
              "2     Axis Bank  ...      4\n",
              "3     Axis Bank  ...      5\n",
              "4     Axis Bank  ...      1\n",
              "...         ...  ...    ...\n",
              "2995       Yono  ...      1\n",
              "2996       Yono  ...      4\n",
              "2997       Yono  ...      4\n",
              "2998       Yono  ...      1\n",
              "2999       Yono  ...      1\n",
              "\n",
              "[3000 rows x 13 columns]"
            ]
          },
          "metadata": {
            "tags": []
          },
          "execution_count": 6
        }
      ]
    },
    {
      "cell_type": "code",
      "metadata": {
        "id": "qF91prneP4Cr",
        "colab": {
          "base_uri": "https://localhost:8080/",
          "height": 340
        },
        "outputId": "0fd01ba7-9506-4ef7-a9a1-b7e787bd1bf8"
      },
      "source": [
        "df2 = df2.drop_duplicates(['App_x'], keep='last')\n",
        "df2 = df2.reset_index()\n",
        "df2.head()"
      ],
      "execution_count": null,
      "outputs": [
        {
          "output_type": "execute_result",
          "data": {
            "text/html": [
              "<div>\n",
              "<style scoped>\n",
              "    .dataframe tbody tr th:only-of-type {\n",
              "        vertical-align: middle;\n",
              "    }\n",
              "\n",
              "    .dataframe tbody tr th {\n",
              "        vertical-align: top;\n",
              "    }\n",
              "\n",
              "    .dataframe thead th {\n",
              "        text-align: right;\n",
              "    }\n",
              "</style>\n",
              "<table border=\"1\" class=\"dataframe\">\n",
              "  <thead>\n",
              "    <tr style=\"text-align: right;\">\n",
              "      <th></th>\n",
              "      <th>index</th>\n",
              "      <th>App_x</th>\n",
              "      <th>Review_x</th>\n",
              "      <th>Country_x</th>\n",
              "      <th>Date_x</th>\n",
              "      <th>Customer_x</th>\n",
              "      <th>Rating_x</th>\n",
              "      <th>Review_y</th>\n",
              "      <th>Country_y</th>\n",
              "      <th>App_y</th>\n",
              "      <th>Date_y</th>\n",
              "      <th>Customer_y</th>\n",
              "      <th>Rating_y</th>\n",
              "      <th>Rating</th>\n",
              "    </tr>\n",
              "  </thead>\n",
              "  <tbody>\n",
              "    <tr>\n",
              "      <th>0</th>\n",
              "      <td>199</td>\n",
              "      <td>Axis Bank</td>\n",
              "      <td>[\"The app is all good. I am using the account ...</td>\n",
              "      <td>India</td>\n",
              "      <td>31 July 2020</td>\n",
              "      <td>Amish Darbar</td>\n",
              "      <td>5</td>\n",
              "      <td>App is very good work but bank need update ATM...</td>\n",
              "      <td>1</td>\n",
              "      <td>1</td>\n",
              "      <td>1</td>\n",
              "      <td>1</td>\n",
              "      <td>1</td>\n",
              "      <td>5</td>\n",
              "    </tr>\n",
              "    <tr>\n",
              "      <th>1</th>\n",
              "      <td>399</td>\n",
              "      <td>Citi</td>\n",
              "      <td>['Experience is good. Easy to use due to norma...</td>\n",
              "      <td>India</td>\n",
              "      <td>19 May 2020</td>\n",
              "      <td>Gaurav Dutta</td>\n",
              "      <td>2</td>\n",
              "      <td>App is not very useful. Transactions update de...</td>\n",
              "      <td>1</td>\n",
              "      <td>1</td>\n",
              "      <td>1</td>\n",
              "      <td>1</td>\n",
              "      <td>1</td>\n",
              "      <td>2</td>\n",
              "    </tr>\n",
              "    <tr>\n",
              "      <th>2</th>\n",
              "      <td>599</td>\n",
              "      <td>Freecharge</td>\n",
              "      <td>['Far better than prior years. Thanks to its r...</td>\n",
              "      <td>India</td>\n",
              "      <td>June 14, 2020</td>\n",
              "      <td>Mohamed Nizam</td>\n",
              "      <td>4</td>\n",
              "      <td>Colourful app without all the requirements and...</td>\n",
              "      <td>1</td>\n",
              "      <td>1</td>\n",
              "      <td>1</td>\n",
              "      <td>1</td>\n",
              "      <td>1</td>\n",
              "      <td>4</td>\n",
              "    </tr>\n",
              "    <tr>\n",
              "      <th>3</th>\n",
              "      <td>799</td>\n",
              "      <td>HDFC Bank</td>\n",
              "      <td>[\"Poor app. Irritating errors. Unable to load ...</td>\n",
              "      <td>India</td>\n",
              "      <td>21 June 2020</td>\n",
              "      <td>Soham Pradhan</td>\n",
              "      <td>1</td>\n",
              "      <td>Not at all user friendly. 'Card' section is un...</td>\n",
              "      <td>1</td>\n",
              "      <td>1</td>\n",
              "      <td>1</td>\n",
              "      <td>1</td>\n",
              "      <td>1</td>\n",
              "      <td>1</td>\n",
              "    </tr>\n",
              "    <tr>\n",
              "      <th>4</th>\n",
              "      <td>999</td>\n",
              "      <td>HSBC</td>\n",
              "      <td>['I never used a worst banking app like this. ...</td>\n",
              "      <td>India</td>\n",
              "      <td>July 13, 2020</td>\n",
              "      <td>Javid Rather</td>\n",
              "      <td>1</td>\n",
              "      <td>I think worst banking experience , app is a di...</td>\n",
              "      <td>1</td>\n",
              "      <td>1</td>\n",
              "      <td>1</td>\n",
              "      <td>1</td>\n",
              "      <td>1</td>\n",
              "      <td>1</td>\n",
              "    </tr>\n",
              "  </tbody>\n",
              "</table>\n",
              "</div>"
            ],
            "text/plain": [
              "   index       App_x  ... Rating_y Rating\n",
              "0    199   Axis Bank  ...        1      5\n",
              "1    399        Citi  ...        1      2\n",
              "2    599  Freecharge  ...        1      4\n",
              "3    799   HDFC Bank  ...        1      1\n",
              "4    999        HSBC  ...        1      1\n",
              "\n",
              "[5 rows x 14 columns]"
            ]
          },
          "metadata": {
            "tags": []
          },
          "execution_count": 7
        }
      ]
    },
    {
      "cell_type": "markdown",
      "metadata": {
        "id": "1sHTfY4Z7Q_j"
      },
      "source": [
        "PreTrained BERT Model:"
      ]
    },
    {
      "cell_type": "code",
      "metadata": {
        "id": "hLWHcclQODVN",
        "colab": {
          "base_uri": "https://localhost:8080/",
          "height": 62
        },
        "outputId": "44d6a813-b3a5-4b70-f578-75e88d939653"
      },
      "source": [
        "df[\"translated_text\"][4]"
      ],
      "execution_count": null,
      "outputs": [
        {
          "output_type": "execute_result",
          "data": {
            "application/vnd.google.colaboratory.intrinsic+json": {
              "type": "string"
            },
            "text/plain": [
              "'The food is very tasty, the place is small more very cozy, there are combos and promotions that are very attractive. Super recommend the Yakisoba is a delight'"
            ]
          },
          "metadata": {
            "tags": []
          },
          "execution_count": 4
        }
      ]
    },
    {
      "cell_type": "code",
      "metadata": {
        "id": "n-Bz1iYT7Byk"
      },
      "source": [
        "df1 = df"
      ],
      "execution_count": null,
      "outputs": []
    },
    {
      "cell_type": "code",
      "metadata": {
        "id": "jzxTDgSP7YZl",
        "colab": {
          "base_uri": "https://localhost:8080/",
          "height": 751
        },
        "outputId": "29c366ba-dd6c-4a61-e13b-6f35a65e390a"
      },
      "source": [
        "!pip install git+https://github.com/boudinfl/pke.git"
      ],
      "execution_count": null,
      "outputs": [
        {
          "output_type": "stream",
          "text": [
            "Collecting git+https://github.com/boudinfl/pke.git\n",
            "  Cloning https://github.com/boudinfl/pke.git to /tmp/pip-req-build-bafakw0j\n",
            "  Running command git clone -q https://github.com/boudinfl/pke.git /tmp/pip-req-build-bafakw0j\n",
            "Requirement already satisfied: nltk in /usr/local/lib/python3.6/dist-packages (from pke==1.8.1) (3.2.5)\n",
            "Requirement already satisfied: networkx in /usr/local/lib/python3.6/dist-packages (from pke==1.8.1) (2.4)\n",
            "Requirement already satisfied: numpy in /usr/local/lib/python3.6/dist-packages (from pke==1.8.1) (1.18.5)\n",
            "Requirement already satisfied: scipy in /usr/local/lib/python3.6/dist-packages (from pke==1.8.1) (1.4.1)\n",
            "Requirement already satisfied: spacy in /usr/local/lib/python3.6/dist-packages (from pke==1.8.1) (2.2.4)\n",
            "Requirement already satisfied: six in /usr/local/lib/python3.6/dist-packages (from pke==1.8.1) (1.15.0)\n",
            "Requirement already satisfied: sklearn in /usr/local/lib/python3.6/dist-packages (from pke==1.8.1) (0.0)\n",
            "Collecting unidecode\n",
            "\u001b[?25l  Downloading https://files.pythonhosted.org/packages/d0/42/d9edfed04228bacea2d824904cae367ee9efd05e6cce7ceaaedd0b0ad964/Unidecode-1.1.1-py2.py3-none-any.whl (238kB)\n",
            "\u001b[K     |████████████████████████████████| 245kB 5.4MB/s \n",
            "\u001b[?25hRequirement already satisfied: future in /usr/local/lib/python3.6/dist-packages (from pke==1.8.1) (0.16.0)\n",
            "Requirement already satisfied: joblib in /usr/local/lib/python3.6/dist-packages (from pke==1.8.1) (0.16.0)\n",
            "Requirement already satisfied: decorator>=4.3.0 in /usr/local/lib/python3.6/dist-packages (from networkx->pke==1.8.1) (4.4.2)\n",
            "Requirement already satisfied: srsly<1.1.0,>=1.0.2 in /usr/local/lib/python3.6/dist-packages (from spacy->pke==1.8.1) (1.0.2)\n",
            "Requirement already satisfied: setuptools in /usr/local/lib/python3.6/dist-packages (from spacy->pke==1.8.1) (49.2.0)\n",
            "Requirement already satisfied: wasabi<1.1.0,>=0.4.0 in /usr/local/lib/python3.6/dist-packages (from spacy->pke==1.8.1) (0.7.1)\n",
            "Requirement already satisfied: blis<0.5.0,>=0.4.0 in /usr/local/lib/python3.6/dist-packages (from spacy->pke==1.8.1) (0.4.1)\n",
            "Requirement already satisfied: preshed<3.1.0,>=3.0.2 in /usr/local/lib/python3.6/dist-packages (from spacy->pke==1.8.1) (3.0.2)\n",
            "Requirement already satisfied: catalogue<1.1.0,>=0.0.7 in /usr/local/lib/python3.6/dist-packages (from spacy->pke==1.8.1) (1.0.0)\n",
            "Requirement already satisfied: tqdm<5.0.0,>=4.38.0 in /usr/local/lib/python3.6/dist-packages (from spacy->pke==1.8.1) (4.41.1)\n",
            "Requirement already satisfied: requests<3.0.0,>=2.13.0 in /usr/local/lib/python3.6/dist-packages (from spacy->pke==1.8.1) (2.23.0)\n",
            "Requirement already satisfied: murmurhash<1.1.0,>=0.28.0 in /usr/local/lib/python3.6/dist-packages (from spacy->pke==1.8.1) (1.0.2)\n",
            "Requirement already satisfied: cymem<2.1.0,>=2.0.2 in /usr/local/lib/python3.6/dist-packages (from spacy->pke==1.8.1) (2.0.3)\n",
            "Requirement already satisfied: plac<1.2.0,>=0.9.6 in /usr/local/lib/python3.6/dist-packages (from spacy->pke==1.8.1) (1.1.3)\n",
            "Requirement already satisfied: thinc==7.4.0 in /usr/local/lib/python3.6/dist-packages (from spacy->pke==1.8.1) (7.4.0)\n",
            "Requirement already satisfied: scikit-learn in /usr/local/lib/python3.6/dist-packages (from sklearn->pke==1.8.1) (0.22.2.post1)\n",
            "Requirement already satisfied: importlib-metadata>=0.20; python_version < \"3.8\" in /usr/local/lib/python3.6/dist-packages (from catalogue<1.1.0,>=0.0.7->spacy->pke==1.8.1) (1.7.0)\n",
            "Requirement already satisfied: chardet<4,>=3.0.2 in /usr/local/lib/python3.6/dist-packages (from requests<3.0.0,>=2.13.0->spacy->pke==1.8.1) (3.0.4)\n",
            "Requirement already satisfied: certifi>=2017.4.17 in /usr/local/lib/python3.6/dist-packages (from requests<3.0.0,>=2.13.0->spacy->pke==1.8.1) (2020.6.20)\n",
            "Requirement already satisfied: idna<3,>=2.5 in /usr/local/lib/python3.6/dist-packages (from requests<3.0.0,>=2.13.0->spacy->pke==1.8.1) (2.10)\n",
            "Requirement already satisfied: urllib3!=1.25.0,!=1.25.1,<1.26,>=1.21.1 in /usr/local/lib/python3.6/dist-packages (from requests<3.0.0,>=2.13.0->spacy->pke==1.8.1) (1.24.3)\n",
            "Requirement already satisfied: zipp>=0.5 in /usr/local/lib/python3.6/dist-packages (from importlib-metadata>=0.20; python_version < \"3.8\"->catalogue<1.1.0,>=0.0.7->spacy->pke==1.8.1) (3.1.0)\n",
            "Building wheels for collected packages: pke\n",
            "  Building wheel for pke (setup.py) ... \u001b[?25l\u001b[?25hdone\n",
            "  Created wheel for pke: filename=pke-1.8.1-cp36-none-any.whl size=8759829 sha256=391f6dd4b8f3cc2f2c91e8b0e8a35fb49e62b1466128a6068f3fe710793071a3\n",
            "  Stored in directory: /tmp/pip-ephem-wheel-cache-y8hdc06x/wheels/8d/24/54/6582e854e9e32dd6c632af6762b3a5d2f6b181c2992e165462\n",
            "Successfully built pke\n",
            "Installing collected packages: unidecode, pke\n",
            "Successfully installed pke-1.8.1 unidecode-1.1.1\n"
          ],
          "name": "stdout"
        }
      ]
    },
    {
      "cell_type": "code",
      "metadata": {
        "id": "gv1dpmEd7fib",
        "colab": {
          "base_uri": "https://localhost:8080/",
          "height": 68
        },
        "outputId": "b98a9b59-ec10-4b57-8e38-2438a3bd3209"
      },
      "source": [
        "import nltk\n",
        "from sklearn.feature_extraction.text import CountVectorizer, TfidfTransformer\n",
        "from sklearn.decomposition import LatentDirichletAllocation\n",
        "from sklearn.cluster import KMeans\n",
        "from sklearn.cluster import AffinityPropagation\n",
        "import re\n",
        "import pke\n",
        "import datetime\n",
        "nltk.download('stopwords')"
      ],
      "execution_count": null,
      "outputs": [
        {
          "output_type": "stream",
          "text": [
            "[nltk_data] Downloading package stopwords to /root/nltk_data...\n",
            "[nltk_data]   Unzipping corpora/stopwords.zip.\n"
          ],
          "name": "stdout"
        },
        {
          "output_type": "execute_result",
          "data": {
            "text/plain": [
              "True"
            ]
          },
          "metadata": {
            "tags": []
          },
          "execution_count": 9
        }
      ]
    },
    {
      "cell_type": "code",
      "metadata": {
        "id": "b8wuedhp7jaK",
        "colab": {
          "base_uri": "https://localhost:8080/",
          "height": 1000
        },
        "outputId": "79360dbb-379e-43d7-d139-28c22748ee81"
      },
      "source": [
        "def extract_keyphrases(caption, n):\n",
        "    extractor = pke.unsupervised.TextRank() \n",
        "    extractor.load_document(caption)\n",
        "    extractor.candidate_selection()\n",
        "    extractor.candidate_weighting()\n",
        "    keyphrases = extractor.get_n_best(n=n, stemming=False)\n",
        "    phrases = []\n",
        "    for i in range(len(keyphrases)):\n",
        "      phrases.append(keyphrases[i])\n",
        "    return(phrases)\n",
        "a = datetime.datetime.now()    \n",
        "df2['tag_BERT'] = df2.apply(lambda row: (extract_keyphrases(row['Review'],3)),axis=1)\n",
        "b = datetime.datetime.now()\n",
        "df2.head()"
      ],
      "execution_count": null,
      "outputs": [
        {
          "output_type": "stream",
          "text": [
            "WARNING:root:Not enough candidates to choose from (3 requested, 2 given)\n",
            "WARNING:root:Not enough candidates to choose from (3 requested, 2 given)\n",
            "WARNING:root:Not enough candidates to choose from (3 requested, 2 given)\n",
            "WARNING:root:Not enough candidates to choose from (3 requested, 1 given)\n",
            "WARNING:root:Not enough candidates to choose from (3 requested, 2 given)\n",
            "WARNING:root:Not enough candidates to choose from (3 requested, 2 given)\n",
            "WARNING:root:Not enough candidates to choose from (3 requested, 2 given)\n",
            "WARNING:root:Not enough candidates to choose from (3 requested, 1 given)\n",
            "WARNING:root:Not enough candidates to choose from (3 requested, 2 given)\n",
            "WARNING:root:Not enough candidates to choose from (3 requested, 1 given)\n",
            "WARNING:root:Not enough candidates to choose from (3 requested, 2 given)\n",
            "WARNING:root:Not enough candidates to choose from (3 requested, 2 given)\n",
            "WARNING:root:Not enough candidates to choose from (3 requested, 2 given)\n",
            "WARNING:root:Not enough candidates to choose from (3 requested, 2 given)\n",
            "WARNING:root:Not enough candidates to choose from (3 requested, 2 given)\n",
            "WARNING:root:Not enough candidates to choose from (3 requested, 2 given)\n",
            "WARNING:root:Not enough candidates to choose from (3 requested, 2 given)\n",
            "WARNING:root:Not enough candidates to choose from (3 requested, 2 given)\n",
            "WARNING:root:Not enough candidates to choose from (3 requested, 2 given)\n",
            "WARNING:root:Not enough candidates to choose from (3 requested, 2 given)\n",
            "WARNING:root:Not enough candidates to choose from (3 requested, 2 given)\n",
            "WARNING:root:Not enough candidates to choose from (3 requested, 2 given)\n",
            "WARNING:root:Not enough candidates to choose from (3 requested, 2 given)\n",
            "WARNING:root:Not enough candidates to choose from (3 requested, 2 given)\n",
            "WARNING:root:Not enough candidates to choose from (3 requested, 1 given)\n",
            "WARNING:root:Not enough candidates to choose from (3 requested, 2 given)\n",
            "WARNING:root:Not enough candidates to choose from (3 requested, 2 given)\n",
            "WARNING:root:Not enough candidates to choose from (3 requested, 0 given)\n",
            "WARNING:root:Not enough candidates to choose from (3 requested, 1 given)\n",
            "WARNING:root:Not enough candidates to choose from (3 requested, 2 given)\n",
            "WARNING:root:Not enough candidates to choose from (3 requested, 2 given)\n",
            "WARNING:root:Not enough candidates to choose from (3 requested, 2 given)\n",
            "WARNING:root:Not enough candidates to choose from (3 requested, 2 given)\n",
            "WARNING:root:Not enough candidates to choose from (3 requested, 2 given)\n",
            "WARNING:root:Not enough candidates to choose from (3 requested, 2 given)\n",
            "WARNING:root:Not enough candidates to choose from (3 requested, 2 given)\n",
            "WARNING:root:Not enough candidates to choose from (3 requested, 2 given)\n",
            "WARNING:root:Not enough candidates to choose from (3 requested, 2 given)\n",
            "WARNING:root:Not enough candidates to choose from (3 requested, 2 given)\n",
            "WARNING:root:Not enough candidates to choose from (3 requested, 1 given)\n",
            "WARNING:root:Not enough candidates to choose from (3 requested, 2 given)\n",
            "WARNING:root:Not enough candidates to choose from (3 requested, 2 given)\n",
            "WARNING:root:Not enough candidates to choose from (3 requested, 2 given)\n",
            "WARNING:root:Not enough candidates to choose from (3 requested, 2 given)\n",
            "WARNING:root:Not enough candidates to choose from (3 requested, 2 given)\n",
            "WARNING:root:Not enough candidates to choose from (3 requested, 2 given)\n",
            "WARNING:root:Not enough candidates to choose from (3 requested, 2 given)\n",
            "WARNING:root:Not enough candidates to choose from (3 requested, 2 given)\n",
            "WARNING:root:Not enough candidates to choose from (3 requested, 2 given)\n",
            "WARNING:root:Not enough candidates to choose from (3 requested, 2 given)\n",
            "WARNING:root:Not enough candidates to choose from (3 requested, 2 given)\n",
            "WARNING:root:Not enough candidates to choose from (3 requested, 2 given)\n",
            "WARNING:root:Not enough candidates to choose from (3 requested, 2 given)\n",
            "WARNING:root:Not enough candidates to choose from (3 requested, 2 given)\n",
            "WARNING:root:Not enough candidates to choose from (3 requested, 2 given)\n",
            "WARNING:root:Not enough candidates to choose from (3 requested, 2 given)\n",
            "WARNING:root:Not enough candidates to choose from (3 requested, 2 given)\n",
            "WARNING:root:Not enough candidates to choose from (3 requested, 2 given)\n",
            "WARNING:root:Not enough candidates to choose from (3 requested, 2 given)\n",
            "WARNING:root:Not enough candidates to choose from (3 requested, 2 given)\n",
            "WARNING:root:Not enough candidates to choose from (3 requested, 2 given)\n"
          ],
          "name": "stderr"
        },
        {
          "output_type": "execute_result",
          "data": {
            "text/html": [
              "<div>\n",
              "<style scoped>\n",
              "    .dataframe tbody tr th:only-of-type {\n",
              "        vertical-align: middle;\n",
              "    }\n",
              "\n",
              "    .dataframe tbody tr th {\n",
              "        vertical-align: top;\n",
              "    }\n",
              "\n",
              "    .dataframe thead th {\n",
              "        text-align: right;\n",
              "    }\n",
              "</style>\n",
              "<table border=\"1\" class=\"dataframe\">\n",
              "  <thead>\n",
              "    <tr style=\"text-align: right;\">\n",
              "      <th></th>\n",
              "      <th>Country</th>\n",
              "      <th>App</th>\n",
              "      <th>Date</th>\n",
              "      <th>Customer</th>\n",
              "      <th>Rating</th>\n",
              "      <th>Review</th>\n",
              "      <th>tag_BERT</th>\n",
              "    </tr>\n",
              "  </thead>\n",
              "  <tbody>\n",
              "    <tr>\n",
              "      <th>0</th>\n",
              "      <td>India</td>\n",
              "      <td>HSBC</td>\n",
              "      <td>July 21, 2020</td>\n",
              "      <td>Sam Joseph GodMan.J</td>\n",
              "      <td>1</td>\n",
              "      <td>I never used a worst banking app like this. I ...</td>\n",
              "      <td>[(worst banking app, 0.14513851630227806), (di...</td>\n",
              "    </tr>\n",
              "    <tr>\n",
              "      <th>1</th>\n",
              "      <td>India</td>\n",
              "      <td>HSBC</td>\n",
              "      <td>July 14, 2020</td>\n",
              "      <td>Abhinav Saraswat</td>\n",
              "      <td>1</td>\n",
              "      <td>Worst app i ever seen, goverment bank SBI Appl...</td>\n",
              "      <td>[(goverment bank sbi application, 0.3741709727...</td>\n",
              "    </tr>\n",
              "    <tr>\n",
              "      <th>2</th>\n",
              "      <td>India</td>\n",
              "      <td>HSBC</td>\n",
              "      <td>July 19, 2020</td>\n",
              "      <td>Vikas Kumar</td>\n",
              "      <td>1</td>\n",
              "      <td>Worst app ever i am using this app from last 1...</td>\n",
              "      <td>[(credit card transactions, 0.252101130336128)...</td>\n",
              "    </tr>\n",
              "    <tr>\n",
              "      <th>3</th>\n",
              "      <td>India</td>\n",
              "      <td>HSBC</td>\n",
              "      <td>June 4, 2020</td>\n",
              "      <td>Kalakar Baba</td>\n",
              "      <td>1</td>\n",
              "      <td>Application working fine but it is features le...</td>\n",
              "      <td>[(monthly view statement option, 0.22140741177...</td>\n",
              "    </tr>\n",
              "    <tr>\n",
              "      <th>4</th>\n",
              "      <td>India</td>\n",
              "      <td>HSBC</td>\n",
              "      <td>May 26, 2020</td>\n",
              "      <td>anup kalshetty</td>\n",
              "      <td>1</td>\n",
              "      <td>Worst banking app if compared to other apps li...</td>\n",
              "      <td>[(worst banking app, 0.30619885793389157), (su...</td>\n",
              "    </tr>\n",
              "  </tbody>\n",
              "</table>\n",
              "</div>"
            ],
            "text/plain": [
              "  Country  ...                                           tag_BERT\n",
              "0   India  ...  [(worst banking app, 0.14513851630227806), (di...\n",
              "1   India  ...  [(goverment bank sbi application, 0.3741709727...\n",
              "2   India  ...  [(credit card transactions, 0.252101130336128)...\n",
              "3   India  ...  [(monthly view statement option, 0.22140741177...\n",
              "4   India  ...  [(worst banking app, 0.30619885793389157), (su...\n",
              "\n",
              "[5 rows x 7 columns]"
            ]
          },
          "metadata": {
            "tags": []
          },
          "execution_count": 30
        }
      ]
    },
    {
      "cell_type": "code",
      "metadata": {
        "id": "mmxquZXc70pD",
        "colab": {
          "base_uri": "https://localhost:8080/",
          "height": 51
        },
        "outputId": "2d8ef030-af4f-4499-a745-ba3734ef4e39"
      },
      "source": [
        "print(\"PKE Time duration for 500 reviews\")\n",
        "print(b-a)\n",
        "pke_time = b-a"
      ],
      "execution_count": null,
      "outputs": [
        {
          "output_type": "stream",
          "text": [
            "PKE Time duration for 500 reviews\n",
            "0:00:07.969475\n"
          ],
          "name": "stdout"
        }
      ]
    },
    {
      "cell_type": "code",
      "metadata": {
        "id": "jioOSBNs86sl"
      },
      "source": [
        "df_tagsPKE = df1[[\"product_name\" , \"crayon_product_id\" , \"Abstract_Keyphrases\"]]"
      ],
      "execution_count": null,
      "outputs": []
    },
    {
      "cell_type": "code",
      "metadata": {
        "id": "42KncyHm9aUP",
        "colab": {
          "base_uri": "https://localhost:8080/",
          "height": 424
        },
        "outputId": "5d3b8daa-194f-4dd3-b688-4999dcb7a131"
      },
      "source": [
        "df_tagsPKE"
      ],
      "execution_count": null,
      "outputs": [
        {
          "output_type": "execute_result",
          "data": {
            "text/html": [
              "<div>\n",
              "<style scoped>\n",
              "    .dataframe tbody tr th:only-of-type {\n",
              "        vertical-align: middle;\n",
              "    }\n",
              "\n",
              "    .dataframe tbody tr th {\n",
              "        vertical-align: top;\n",
              "    }\n",
              "\n",
              "    .dataframe thead th {\n",
              "        text-align: right;\n",
              "    }\n",
              "</style>\n",
              "<table border=\"1\" class=\"dataframe\">\n",
              "  <thead>\n",
              "    <tr style=\"text-align: right;\">\n",
              "      <th></th>\n",
              "      <th>product_name</th>\n",
              "      <th>crayon_product_id</th>\n",
              "      <th>Abstract_Keyphrases</th>\n",
              "    </tr>\n",
              "  </thead>\n",
              "  <tbody>\n",
              "    <tr>\n",
              "      <th>0</th>\n",
              "      <td>Baixocesso Pizzaria</td>\n",
              "      <td>R-102001000-200859931</td>\n",
              "      <td>[cold beer, good service, various flavors]</td>\n",
              "    </tr>\n",
              "    <tr>\n",
              "      <th>1</th>\n",
              "      <td>California Coffee</td>\n",
              "      <td>R-102001000-201059308</td>\n",
              "      <td>[iced coffees, california coffee, day rush]</td>\n",
              "    </tr>\n",
              "    <tr>\n",
              "      <th>2</th>\n",
              "      <td>Vikings - Steaks, Seafood &amp; Sandwiches</td>\n",
              "      <td>R-102001000-200779746</td>\n",
              "      <td>[family, friends, weekend]</td>\n",
              "    </tr>\n",
              "    <tr>\n",
              "      <th>3</th>\n",
              "      <td>Tadaki Estrelas</td>\n",
              "      <td>R-102001000-202786436</td>\n",
              "      <td>[well varied menu, simple items, minutes]</td>\n",
              "    </tr>\n",
              "    <tr>\n",
              "      <th>4</th>\n",
              "      <td>O Japa - Rosario</td>\n",
              "      <td>R-102001000-202829085</td>\n",
              "      <td>[delight, yakisoba, attractive]</td>\n",
              "    </tr>\n",
              "    <tr>\n",
              "      <th>...</th>\n",
              "      <td>...</td>\n",
              "      <td>...</td>\n",
              "      <td>...</td>\n",
              "    </tr>\n",
              "    <tr>\n",
              "      <th>495</th>\n",
              "      <td>Kimura Culinaria Japonesa</td>\n",
              "      <td>R-102001000-201154179</td>\n",
              "      <td>[first ones, second round, items]</td>\n",
              "    </tr>\n",
              "    <tr>\n",
              "      <th>496</th>\n",
              "      <td>Escondidinho</td>\n",
              "      <td>R-102001000-201843610</td>\n",
              "      <td>[dry meat hiding place, great request, cozy en...</td>\n",
              "    </tr>\n",
              "    <tr>\n",
              "      <th>497</th>\n",
              "      <td>Total Requinte</td>\n",
              "      <td>R-102001000-203601308</td>\n",
              "      <td>[good service, good restaurant, delicious dess...</td>\n",
              "    </tr>\n",
              "    <tr>\n",
              "      <th>498</th>\n",
              "      <td>Lagosta Carioca</td>\n",
              "      <td>R-102001000-200468358</td>\n",
              "      <td>[good variety, main attraction, various types]</td>\n",
              "    </tr>\n",
              "    <tr>\n",
              "      <th>499</th>\n",
              "      <td>Bar E Restaurante Silver</td>\n",
              "      <td>R-102001000-203967569</td>\n",
              "      <td>[notch service, varied cardapio, climate]</td>\n",
              "    </tr>\n",
              "  </tbody>\n",
              "</table>\n",
              "<p>500 rows × 3 columns</p>\n",
              "</div>"
            ],
            "text/plain": [
              "                               product_name  ...                                Abstract_Keyphrases\n",
              "0                       Baixocesso Pizzaria  ...         [cold beer, good service, various flavors]\n",
              "1                         California Coffee  ...        [iced coffees, california coffee, day rush]\n",
              "2    Vikings - Steaks, Seafood & Sandwiches  ...                         [family, friends, weekend]\n",
              "3                           Tadaki Estrelas  ...          [well varied menu, simple items, minutes]\n",
              "4                          O Japa - Rosario  ...                    [delight, yakisoba, attractive]\n",
              "..                                      ...  ...                                                ...\n",
              "495               Kimura Culinaria Japonesa  ...                  [first ones, second round, items]\n",
              "496                            Escondidinho  ...  [dry meat hiding place, great request, cozy en...\n",
              "497                          Total Requinte  ...  [good service, good restaurant, delicious dess...\n",
              "498                         Lagosta Carioca  ...     [good variety, main attraction, various types]\n",
              "499                Bar E Restaurante Silver  ...          [notch service, varied cardapio, climate]\n",
              "\n",
              "[500 rows x 3 columns]"
            ]
          },
          "metadata": {
            "tags": []
          },
          "execution_count": 76
        }
      ]
    },
    {
      "cell_type": "markdown",
      "metadata": {
        "id": "xR1-MhUw-Zsj"
      },
      "source": [
        "RAKEing Algorithm"
      ]
    },
    {
      "cell_type": "code",
      "metadata": {
        "id": "WrN3_NAe-TYT"
      },
      "source": [
        "df2 = df"
      ],
      "execution_count": null,
      "outputs": []
    },
    {
      "cell_type": "code",
      "metadata": {
        "id": "R2n_f8_Q-d_z",
        "colab": {
          "base_uri": "https://localhost:8080/",
          "height": 204
        },
        "outputId": "17154bd8-934f-47db-d300-e923f6226353"
      },
      "source": [
        "!pip install rake-nltk"
      ],
      "execution_count": null,
      "outputs": [
        {
          "output_type": "stream",
          "text": [
            "Collecting rake-nltk\n",
            "  Downloading https://files.pythonhosted.org/packages/8e/c4/b4ff57e541ac5624ad4b20b89c2bafd4e98f29fd83139f3a81858bdb3815/rake_nltk-1.0.4.tar.gz\n",
            "Requirement already satisfied: nltk in /usr/local/lib/python3.6/dist-packages (from rake-nltk) (3.2.5)\n",
            "Requirement already satisfied: six in /usr/local/lib/python3.6/dist-packages (from nltk->rake-nltk) (1.15.0)\n",
            "Building wheels for collected packages: rake-nltk\n",
            "  Building wheel for rake-nltk (setup.py) ... \u001b[?25l\u001b[?25hdone\n",
            "  Created wheel for rake-nltk: filename=rake_nltk-1.0.4-py2.py3-none-any.whl size=7819 sha256=74446351448c0adc0fff0ededf9b964b9fa3ee8c6313635fe27ed4a48758f572\n",
            "  Stored in directory: /root/.cache/pip/wheels/ef/92/fc/271b3709e71a96ffe934b27818946b795ac6b9b8ff8682483f\n",
            "Successfully built rake-nltk\n",
            "Installing collected packages: rake-nltk\n",
            "Successfully installed rake-nltk-1.0.4\n"
          ],
          "name": "stdout"
        }
      ]
    },
    {
      "cell_type": "code",
      "metadata": {
        "id": "TEelwH0i-jrR"
      },
      "source": [
        "from rake_nltk import Rake,Metric\n",
        "r = Rake(min_length=2, max_length=3,ranking_metric=Metric.DEGREE_TO_FREQUENCY_RATIO)"
      ],
      "execution_count": null,
      "outputs": []
    },
    {
      "cell_type": "code",
      "metadata": {
        "id": "XOxwliu8-ltI",
        "colab": {
          "base_uri": "https://localhost:8080/",
          "height": 51
        },
        "outputId": "c120c4ec-6604-46be-8b5e-930ebb771524"
      },
      "source": [
        "def rake_keyphrases(content , n):\n",
        "  tag = []\n",
        "  r.extract_keywords_from_text(content)\n",
        "  tag = r.get_ranked_phrases_with_scores()\n",
        "  return tag[:n]\n",
        "a = datetime.datetime.now()   \n",
        "df2['tag_RAKE'] = df2.apply(lambda row: (rake_keyphrases(row['Review'],3)),axis=1)\n",
        "b = datetime.datetime.now() \n",
        "\n",
        "print(\"RAKE Time taken for 500 reviews\")\n",
        "print(b-a)"
      ],
      "execution_count": null,
      "outputs": [
        {
          "output_type": "stream",
          "text": [
            "RAKE Time taken for 500 reviews\n",
            "0:00:00.950424\n"
          ],
          "name": "stdout"
        }
      ]
    },
    {
      "cell_type": "code",
      "metadata": {
        "id": "iW1bp38K-qGr",
        "colab": {
          "base_uri": "https://localhost:8080/",
          "height": 589
        },
        "outputId": "6963f4f8-287d-4e3b-de35-9a00bfe52427"
      },
      "source": [
        "df2"
      ],
      "execution_count": null,
      "outputs": [
        {
          "output_type": "execute_result",
          "data": {
            "text/html": [
              "<div>\n",
              "<style scoped>\n",
              "    .dataframe tbody tr th:only-of-type {\n",
              "        vertical-align: middle;\n",
              "    }\n",
              "\n",
              "    .dataframe tbody tr th {\n",
              "        vertical-align: top;\n",
              "    }\n",
              "\n",
              "    .dataframe thead th {\n",
              "        text-align: right;\n",
              "    }\n",
              "</style>\n",
              "<table border=\"1\" class=\"dataframe\">\n",
              "  <thead>\n",
              "    <tr style=\"text-align: right;\">\n",
              "      <th></th>\n",
              "      <th>Country</th>\n",
              "      <th>App</th>\n",
              "      <th>Date</th>\n",
              "      <th>Customer</th>\n",
              "      <th>Rating</th>\n",
              "      <th>Review</th>\n",
              "      <th>tag_BERT</th>\n",
              "      <th>tag_RAKE</th>\n",
              "    </tr>\n",
              "  </thead>\n",
              "  <tbody>\n",
              "    <tr>\n",
              "      <th>0</th>\n",
              "      <td>India</td>\n",
              "      <td>HSBC</td>\n",
              "      <td>July 21, 2020</td>\n",
              "      <td>Sam Joseph GodMan.J</td>\n",
              "      <td>1</td>\n",
              "      <td>I never used a worst banking app like this. I ...</td>\n",
              "      <td>[(worst banking app, 0.14513851630227806), (di...</td>\n",
              "      <td>[(9.0, wireless payment ).), (9.0, even intern...</td>\n",
              "    </tr>\n",
              "    <tr>\n",
              "      <th>1</th>\n",
              "      <td>India</td>\n",
              "      <td>HSBC</td>\n",
              "      <td>July 14, 2020</td>\n",
              "      <td>Abhinav Saraswat</td>\n",
              "      <td>1</td>\n",
              "      <td>Worst app i ever seen, goverment bank SBI Appl...</td>\n",
              "      <td>[(goverment bank sbi application, 0.3741709727...</td>\n",
              "      <td>[(8.5, full functional ????), (8.3333333333333...</td>\n",
              "    </tr>\n",
              "    <tr>\n",
              "      <th>2</th>\n",
              "      <td>India</td>\n",
              "      <td>HSBC</td>\n",
              "      <td>July 19, 2020</td>\n",
              "      <td>Vikas Kumar</td>\n",
              "      <td>1</td>\n",
              "      <td>Worst app ever i am using this app from last 1...</td>\n",
              "      <td>[(credit card transactions, 0.252101130336128)...</td>\n",
              "      <td>[(9.0, worst app ever), (9.0, last 1 year), (9...</td>\n",
              "    </tr>\n",
              "    <tr>\n",
              "      <th>3</th>\n",
              "      <td>India</td>\n",
              "      <td>HSBC</td>\n",
              "      <td>June 4, 2020</td>\n",
              "      <td>Kalakar Baba</td>\n",
              "      <td>1</td>\n",
              "      <td>Application working fine but it is features le...</td>\n",
              "      <td>[(monthly view statement option, 0.22140741177...</td>\n",
              "      <td>[(9.0, need lot improvememt), (9.0, every bank...</td>\n",
              "    </tr>\n",
              "    <tr>\n",
              "      <th>4</th>\n",
              "      <td>India</td>\n",
              "      <td>HSBC</td>\n",
              "      <td>May 26, 2020</td>\n",
              "      <td>anup kalshetty</td>\n",
              "      <td>1</td>\n",
              "      <td>Worst banking app if compared to other apps li...</td>\n",
              "      <td>[(worst banking app, 0.30619885793389157), (su...</td>\n",
              "      <td>[(9.0, apps like hdfc), (7.833333333333334, wo...</td>\n",
              "    </tr>\n",
              "    <tr>\n",
              "      <th>...</th>\n",
              "      <td>...</td>\n",
              "      <td>...</td>\n",
              "      <td>...</td>\n",
              "      <td>...</td>\n",
              "      <td>...</td>\n",
              "      <td>...</td>\n",
              "      <td>...</td>\n",
              "      <td>...</td>\n",
              "    </tr>\n",
              "    <tr>\n",
              "      <th>2995</th>\n",
              "      <td>India</td>\n",
              "      <td>Mobikwik</td>\n",
              "      <td>July 26, 2020</td>\n",
              "      <td>Rajat Raj</td>\n",
              "      <td>5</td>\n",
              "      <td>Very convenient for all payments and redemptio...</td>\n",
              "      <td>[(payback points, 0.7689600521483594), (cash, ...</td>\n",
              "      <td>[(4.0, payback points)]</td>\n",
              "    </tr>\n",
              "    <tr>\n",
              "      <th>2996</th>\n",
              "      <td>India</td>\n",
              "      <td>Mobikwik</td>\n",
              "      <td>August 4, 2020</td>\n",
              "      <td>Abhijit Metla</td>\n",
              "      <td>5</td>\n",
              "      <td>Nice and quick payment app, made in India also...</td>\n",
              "      <td>[(quick payment app, 0.5504587355963303), (sup...</td>\n",
              "      <td>[(9.0, supercash policy changed), (9.0, quick ...</td>\n",
              "    </tr>\n",
              "    <tr>\n",
              "      <th>2997</th>\n",
              "      <td>India</td>\n",
              "      <td>Mobikwik</td>\n",
              "      <td>July 16, 2020</td>\n",
              "      <td>manik sharma</td>\n",
              "      <td>1</td>\n",
              "      <td>This is a fake app for loan. They dont provide...</td>\n",
              "      <td>[(credit riak score, 0.41094070872828775), (cr...</td>\n",
              "      <td>[(9.0, dont waste time), (8.5, dont provide lo...</td>\n",
              "    </tr>\n",
              "    <tr>\n",
              "      <th>2998</th>\n",
              "      <td>India</td>\n",
              "      <td>Mobikwik</td>\n",
              "      <td>May 22, 2020</td>\n",
              "      <td>Pulkit Sharma Premium Videos</td>\n",
              "      <td>1</td>\n",
              "      <td>There is no customer care phone number. Only e...</td>\n",
              "      <td>[(customer care phone number, 0.20131302911925...</td>\n",
              "      <td>[(9.0, sent several messages), (9.0, full kyc ...</td>\n",
              "    </tr>\n",
              "    <tr>\n",
              "      <th>2999</th>\n",
              "      <td>India</td>\n",
              "      <td>Mobikwik</td>\n",
              "      <td>June 6, 2020</td>\n",
              "      <td>Ajith</td>\n",
              "      <td>5</td>\n",
              "      <td>Using this App again after long time....This a...</td>\n",
              "      <td>[(great update, 0.1265121173639213), (pdf form...</td>\n",
              "      <td>[(9.0, long time ....), (9.0, great update ..)...</td>\n",
              "    </tr>\n",
              "  </tbody>\n",
              "</table>\n",
              "<p>3000 rows × 8 columns</p>\n",
              "</div>"
            ],
            "text/plain": [
              "     Country  ...                                           tag_RAKE\n",
              "0      India  ...  [(9.0, wireless payment ).), (9.0, even intern...\n",
              "1      India  ...  [(8.5, full functional ????), (8.3333333333333...\n",
              "2      India  ...  [(9.0, worst app ever), (9.0, last 1 year), (9...\n",
              "3      India  ...  [(9.0, need lot improvememt), (9.0, every bank...\n",
              "4      India  ...  [(9.0, apps like hdfc), (7.833333333333334, wo...\n",
              "...      ...  ...                                                ...\n",
              "2995   India  ...                            [(4.0, payback points)]\n",
              "2996   India  ...  [(9.0, supercash policy changed), (9.0, quick ...\n",
              "2997   India  ...  [(9.0, dont waste time), (8.5, dont provide lo...\n",
              "2998   India  ...  [(9.0, sent several messages), (9.0, full kyc ...\n",
              "2999   India  ...  [(9.0, long time ....), (9.0, great update ..)...\n",
              "\n",
              "[3000 rows x 8 columns]"
            ]
          },
          "metadata": {
            "tags": []
          },
          "execution_count": 32
        }
      ]
    },
    {
      "cell_type": "code",
      "metadata": {
        "id": "8ulJ_ClTAVtp"
      },
      "source": [
        "df2 = df2[[\"App\",\"Review\",\"tag_BERT\",\"tag_RAKE\",\"tag_graph\"]]"
      ],
      "execution_count": null,
      "outputs": []
    },
    {
      "cell_type": "code",
      "metadata": {
        "id": "m4w_XFRWAji1",
        "colab": {
          "base_uri": "https://localhost:8080/",
          "height": 769
        },
        "outputId": "54122333-fb15-4f57-cb3b-441c248ab56e"
      },
      "source": [
        "df2"
      ],
      "execution_count": null,
      "outputs": [
        {
          "output_type": "execute_result",
          "data": {
            "text/html": [
              "<div>\n",
              "<style scoped>\n",
              "    .dataframe tbody tr th:only-of-type {\n",
              "        vertical-align: middle;\n",
              "    }\n",
              "\n",
              "    .dataframe tbody tr th {\n",
              "        vertical-align: top;\n",
              "    }\n",
              "\n",
              "    .dataframe thead th {\n",
              "        text-align: right;\n",
              "    }\n",
              "</style>\n",
              "<table border=\"1\" class=\"dataframe\">\n",
              "  <thead>\n",
              "    <tr style=\"text-align: right;\">\n",
              "      <th></th>\n",
              "      <th>App_x</th>\n",
              "      <th>Review_x</th>\n",
              "      <th>tag_BERT</th>\n",
              "      <th>tag_RAKE</th>\n",
              "      <th>tag_graph</th>\n",
              "    </tr>\n",
              "  </thead>\n",
              "  <tbody>\n",
              "    <tr>\n",
              "      <th>0</th>\n",
              "      <td>Axis Bank</td>\n",
              "      <td>[\"The app is all good. I am using the account ...</td>\n",
              "      <td>[(update atm center, 0.410958984109589), (bad ...</td>\n",
              "      <td>[(4.0, good work), (4.0, bad condition)]</td>\n",
              "      <td>[(app, 0.04318062149559546), (bank app, 0.0290...</td>\n",
              "    </tr>\n",
              "    <tr>\n",
              "      <th>1</th>\n",
              "      <td>Citi</td>\n",
              "      <td>['Experience is good. Easy to use due to norma...</td>\n",
              "      <td>[(transactions update delay, 0.387096834193536...</td>\n",
              "      <td>[(9.0, transactions update delay), (4.0, tires...</td>\n",
              "      <td>[(app, 0.03550784790473474), (citi app, 0.0213...</td>\n",
              "    </tr>\n",
              "    <tr>\n",
              "      <th>2</th>\n",
              "      <td>Freecharge</td>\n",
              "      <td>['Far better than prior years. Thanks to its r...</td>\n",
              "      <td>[(account section, 0.4493875273271151), (colou...</td>\n",
              "      <td>[(9.0, colourful app without), (9.0, account s...</td>\n",
              "      <td>[(app, 0.04823647803681848), (freecharge app, ...</td>\n",
              "    </tr>\n",
              "    <tr>\n",
              "      <th>3</th>\n",
              "      <td>HDFC Bank</td>\n",
              "      <td>[\"Poor app. Irritating errors. Unable to load ...</td>\n",
              "      <td>[(app development n design, 0.1851860951851851...</td>\n",
              "      <td>[(9.0, see required info), (4.0, user friendly...</td>\n",
              "      <td>[(app, 0.04476319652826501), (hdfc app, 0.0284...</td>\n",
              "    </tr>\n",
              "    <tr>\n",
              "      <th>4</th>\n",
              "      <td>HSBC</td>\n",
              "      <td>['I never used a worst banking app like this. ...</td>\n",
              "      <td>[(worst banking experience, 0.8333333533290622...</td>\n",
              "      <td>[]</td>\n",
              "      <td>[(app, 0.04949935894456424), (hsbc app, 0.0329...</td>\n",
              "    </tr>\n",
              "    <tr>\n",
              "      <th>5</th>\n",
              "      <td>ICICI Bank</td>\n",
              "      <td>['The latest update has slowed the app drastic...</td>\n",
              "      <td>[(customer care, 0.2285419631516695), (bad exp...</td>\n",
              "      <td>[(9.0, bad experience even), (4.0, working goo...</td>\n",
              "      <td>[(app, 0.04383156141949158), (app issue, 0.027...</td>\n",
              "    </tr>\n",
              "    <tr>\n",
              "      <th>6</th>\n",
              "      <td>Kotak Bank</td>\n",
              "      <td>[\"Im unable to login from the last one month. ...</td>\n",
              "      <td>[(quick transactions, 0.6241118475323161), (fr...</td>\n",
              "      <td>[(4.0, user friendly), (4.0, stands rectified)...</td>\n",
              "      <td>[(app, 0.03589299101903011), (bank app, 0.0262...</td>\n",
              "    </tr>\n",
              "    <tr>\n",
              "      <th>7</th>\n",
              "      <td>Mobikwik</td>\n",
              "      <td>['It seems there is a serious issue with this ...</td>\n",
              "      <td>[(great update, 0.1265121173639213), (pdf form...</td>\n",
              "      <td>[(9.0, long time ....), (9.0, great update ..)...</td>\n",
              "      <td>[(app, 0.03958099540187532), (mobikwik app, 0....</td>\n",
              "    </tr>\n",
              "    <tr>\n",
              "      <th>8</th>\n",
              "      <td>PayTM</td>\n",
              "      <td>[\"Very bad experience. Quite for forever Many ...</td>\n",
              "      <td>[(longer time duration, 0.8695652273912978), (...</td>\n",
              "      <td>[(9.0, always shows error)]</td>\n",
              "      <td>[(app, 0.03476398731436446), (paytm app, 0.028...</td>\n",
              "    </tr>\n",
              "    <tr>\n",
              "      <th>9</th>\n",
              "      <td>PayZapp</td>\n",
              "      <td>['app is not opening in android 10 device. my ...</td>\n",
              "      <td>[(other online purchase, 0.26431756061445166),...</td>\n",
              "      <td>[(9.0, give 1 star), (9.0, give 0 star), (8.5,...</td>\n",
              "      <td>[(app, 0.039180220047305016), (payment app, 0....</td>\n",
              "    </tr>\n",
              "    <tr>\n",
              "      <th>10</th>\n",
              "      <td>PhonePe</td>\n",
              "      <td>[\"I am using this app from last 4 years, from ...</td>\n",
              "      <td>[(transaction status update delay, 0.310064681...</td>\n",
              "      <td>[(9.0, update transaction status), (4.0, respo...</td>\n",
              "      <td>[(app, 0.0407829707540805), (app developers ap...</td>\n",
              "    </tr>\n",
              "    <tr>\n",
              "      <th>11</th>\n",
              "      <td>Pockets</td>\n",
              "      <td>['Having problems making payments ,it fetches ...</td>\n",
              "      <td>[(useless app, 0.8694942147232975), (kyc, 0.06...</td>\n",
              "      <td>[(4.0, useless app), (4.0, complete kyc)]</td>\n",
              "      <td>[(app, 0.039214393564578474), (app app, 0.0392...</td>\n",
              "    </tr>\n",
              "    <tr>\n",
              "      <th>12</th>\n",
              "      <td>SBI Cards</td>\n",
              "      <td>['App is good. but services are not up to mark...</td>\n",
              "      <td>[(little bit issue, 0.5504587855963303), (rewa...</td>\n",
              "      <td>[(9.0, little bit issue), (4.0, understand ..)...</td>\n",
              "      <td>[(app, 0.04383145470456565), (card app, 0.0338...</td>\n",
              "    </tr>\n",
              "    <tr>\n",
              "      <th>13</th>\n",
              "      <td>StandardChartered</td>\n",
              "      <td>[\"Love that transactions are posted immediatel...</td>\n",
              "      <td>[(aftrr several attempts, 0.8333335233290622),...</td>\n",
              "      <td>[]</td>\n",
              "      <td>[(otp, 0.042562940987515514), (app, 0.03623022...</td>\n",
              "    </tr>\n",
              "    <tr>\n",
              "      <th>14</th>\n",
              "      <td>Yono</td>\n",
              "      <td>['The app is not at all good in its latest ver...</td>\n",
              "      <td>[(second account, 0.398069046134082), (account...</td>\n",
              "      <td>[(9.0, really bad application), (8.33333333333...</td>\n",
              "      <td>[(app, 0.04170951800161311), (sbi app, 0.02766...</td>\n",
              "    </tr>\n",
              "  </tbody>\n",
              "</table>\n",
              "</div>"
            ],
            "text/plain": [
              "                App_x  ...                                          tag_graph\n",
              "0           Axis Bank  ...  [(app, 0.04318062149559546), (bank app, 0.0290...\n",
              "1                Citi  ...  [(app, 0.03550784790473474), (citi app, 0.0213...\n",
              "2          Freecharge  ...  [(app, 0.04823647803681848), (freecharge app, ...\n",
              "3           HDFC Bank  ...  [(app, 0.04476319652826501), (hdfc app, 0.0284...\n",
              "4                HSBC  ...  [(app, 0.04949935894456424), (hsbc app, 0.0329...\n",
              "5          ICICI Bank  ...  [(app, 0.04383156141949158), (app issue, 0.027...\n",
              "6          Kotak Bank  ...  [(app, 0.03589299101903011), (bank app, 0.0262...\n",
              "7            Mobikwik  ...  [(app, 0.03958099540187532), (mobikwik app, 0....\n",
              "8               PayTM  ...  [(app, 0.03476398731436446), (paytm app, 0.028...\n",
              "9             PayZapp  ...  [(app, 0.039180220047305016), (payment app, 0....\n",
              "10            PhonePe  ...  [(app, 0.0407829707540805), (app developers ap...\n",
              "11            Pockets  ...  [(app, 0.039214393564578474), (app app, 0.0392...\n",
              "12          SBI Cards  ...  [(app, 0.04383145470456565), (card app, 0.0338...\n",
              "13  StandardChartered  ...  [(otp, 0.042562940987515514), (app, 0.03623022...\n",
              "14               Yono  ...  [(app, 0.04170951800161311), (sbi app, 0.02766...\n",
              "\n",
              "[15 rows x 5 columns]"
            ]
          },
          "metadata": {
            "tags": []
          },
          "execution_count": 24
        }
      ]
    },
    {
      "cell_type": "code",
      "metadata": {
        "id": "3SGab194Ak0-",
        "colab": {
          "base_uri": "https://localhost:8080/",
          "height": 121
        },
        "outputId": "e92feb89-5fb9-4500-bbaf-2e1dde93923d"
      },
      "source": [
        "keyphrase[\"PKETag\"] = df_tagsPKE[\"Abstract_Keyphrases\"]"
      ],
      "execution_count": null,
      "outputs": [
        {
          "output_type": "stream",
          "text": [
            "/usr/local/lib/python3.6/dist-packages/ipykernel_launcher.py:1: SettingWithCopyWarning: \n",
            "A value is trying to be set on a copy of a slice from a DataFrame.\n",
            "Try using .loc[row_indexer,col_indexer] = value instead\n",
            "\n",
            "See the caveats in the documentation: https://pandas.pydata.org/pandas-docs/stable/user_guide/indexing.html#returning-a-view-versus-a-copy\n",
            "  \"\"\"Entry point for launching an IPython kernel.\n"
          ],
          "name": "stderr"
        }
      ]
    },
    {
      "cell_type": "code",
      "metadata": {
        "id": "B-VBpJZDVHoQ",
        "colab": {
          "base_uri": "https://localhost:8080/",
          "height": 424
        },
        "outputId": "1e2c284d-d7d2-4771-f442-aefad4fb77ee"
      },
      "source": [
        "keyphrase"
      ],
      "execution_count": null,
      "outputs": [
        {
          "output_type": "execute_result",
          "data": {
            "text/html": [
              "<div>\n",
              "<style scoped>\n",
              "    .dataframe tbody tr th:only-of-type {\n",
              "        vertical-align: middle;\n",
              "    }\n",
              "\n",
              "    .dataframe tbody tr th {\n",
              "        vertical-align: top;\n",
              "    }\n",
              "\n",
              "    .dataframe thead th {\n",
              "        text-align: right;\n",
              "    }\n",
              "</style>\n",
              "<table border=\"1\" class=\"dataframe\">\n",
              "  <thead>\n",
              "    <tr style=\"text-align: right;\">\n",
              "      <th></th>\n",
              "      <th>product_name</th>\n",
              "      <th>RAKEphrases</th>\n",
              "      <th>PKETag</th>\n",
              "    </tr>\n",
              "  </thead>\n",
              "  <tbody>\n",
              "    <tr>\n",
              "      <th>0</th>\n",
              "      <td>Baixocesso Pizzaria</td>\n",
              "      <td>[various flavors, right point, pizza served]</td>\n",
              "      <td>[cold beer, good service, various flavors]</td>\n",
              "    </tr>\n",
              "    <tr>\n",
              "      <th>1</th>\n",
              "      <td>California Coffee</td>\n",
              "      <td>[iced coffees, good variety, day well]</td>\n",
              "      <td>[iced coffees, california coffee, day rush]</td>\n",
              "    </tr>\n",
              "    <tr>\n",
              "      <th>2</th>\n",
              "      <td>Vikings - Steaks, Seafood &amp; Sandwiches</td>\n",
              "      <td>[]</td>\n",
              "      <td>[family, friends, weekend]</td>\n",
              "    </tr>\n",
              "    <tr>\n",
              "      <th>3</th>\n",
              "      <td>Tadaki Estrelas</td>\n",
              "      <td>[well varied menu, well prepared, simple items]</td>\n",
              "      <td>[well varied menu, simple items, minutes]</td>\n",
              "    </tr>\n",
              "    <tr>\n",
              "      <th>4</th>\n",
              "      <td>O Japa - Rosario</td>\n",
              "      <td>[super recommend]</td>\n",
              "      <td>[delight, yakisoba, attractive]</td>\n",
              "    </tr>\n",
              "    <tr>\n",
              "      <th>...</th>\n",
              "      <td>...</td>\n",
              "      <td>...</td>\n",
              "      <td>...</td>\n",
              "    </tr>\n",
              "    <tr>\n",
              "      <th>495</th>\n",
              "      <td>Kimura Culinaria Japonesa</td>\n",
              "      <td>[already eating dessert, second round, pieces ...</td>\n",
              "      <td>[first ones, second round, items]</td>\n",
              "    </tr>\n",
              "    <tr>\n",
              "      <th>496</th>\n",
              "      <td>Escondidinho</td>\n",
              "      <td>[great request, good food, fast care]</td>\n",
              "      <td>[dry meat hiding place, great request, cozy en...</td>\n",
              "    </tr>\n",
              "    <tr>\n",
              "      <th>497</th>\n",
              "      <td>Total Requinte</td>\n",
              "      <td>[price within, good service, good restaurant]</td>\n",
              "      <td>[good service, good restaurant, delicious dess...</td>\n",
              "    </tr>\n",
              "    <tr>\n",
              "      <th>498</th>\n",
              "      <td>Lagosta Carioca</td>\n",
              "      <td>[various types, main attraction, good variety]</td>\n",
              "      <td>[good variety, main attraction, various types]</td>\n",
              "    </tr>\n",
              "    <tr>\n",
              "      <th>499</th>\n",
              "      <td>Bar E Restaurante Silver</td>\n",
              "      <td>[varied cardapio, super recommend, notch service]</td>\n",
              "      <td>[notch service, varied cardapio, climate]</td>\n",
              "    </tr>\n",
              "  </tbody>\n",
              "</table>\n",
              "<p>500 rows × 3 columns</p>\n",
              "</div>"
            ],
            "text/plain": [
              "                               product_name  ...                                             PKETag\n",
              "0                       Baixocesso Pizzaria  ...         [cold beer, good service, various flavors]\n",
              "1                         California Coffee  ...        [iced coffees, california coffee, day rush]\n",
              "2    Vikings - Steaks, Seafood & Sandwiches  ...                         [family, friends, weekend]\n",
              "3                           Tadaki Estrelas  ...          [well varied menu, simple items, minutes]\n",
              "4                          O Japa - Rosario  ...                    [delight, yakisoba, attractive]\n",
              "..                                      ...  ...                                                ...\n",
              "495               Kimura Culinaria Japonesa  ...                  [first ones, second round, items]\n",
              "496                            Escondidinho  ...  [dry meat hiding place, great request, cozy en...\n",
              "497                          Total Requinte  ...  [good service, good restaurant, delicious dess...\n",
              "498                         Lagosta Carioca  ...     [good variety, main attraction, various types]\n",
              "499                Bar E Restaurante Silver  ...          [notch service, varied cardapio, climate]\n",
              "\n",
              "[500 rows x 3 columns]"
            ]
          },
          "metadata": {
            "tags": []
          },
          "execution_count": 80
        }
      ]
    },
    {
      "cell_type": "markdown",
      "metadata": {
        "id": "3DB3zJUCBvg7"
      },
      "source": [
        "GRAPH BASED"
      ]
    },
    {
      "cell_type": "code",
      "metadata": {
        "id": "vYQCguicSeJY",
        "colab": {
          "base_uri": "https://localhost:8080/",
          "height": 121
        },
        "outputId": "bbc192d8-82a8-4f45-8e3c-a4c19a3e6ed1"
      },
      "source": [
        "df['product_name'].value_counts()[:5].sort_values(ascending=False)"
      ],
      "execution_count": null,
      "outputs": [
        {
          "output_type": "execute_result",
          "data": {
            "text/plain": [
              "Subway                     10\n",
              "Cacau Show                  7\n",
              "Chocolates Brasil Cacau     5\n",
              "Sal Gastronomia             4\n",
              "Rei do Mate                 4\n",
              "Name: product_name, dtype: int64"
            ]
          },
          "metadata": {
            "tags": []
          },
          "execution_count": 42
        }
      ]
    },
    {
      "cell_type": "code",
      "metadata": {
        "id": "2k0-qi3MB4Dh"
      },
      "source": [
        "df3 = df"
      ],
      "execution_count": null,
      "outputs": []
    },
    {
      "cell_type": "code",
      "metadata": {
        "id": "cpRlFKO5A86E"
      },
      "source": [
        "def extract_candidate_words(text, good_tags=set(['JJ','JJR','JJS','NN','NNP','NNS','NNPS'])):\n",
        "    import itertools, nltk, string\n",
        "\n",
        "    punct = set(string.punctuation)\n",
        "    stop_words = set(nltk.corpus.stopwords.words('english'))\n",
        "    tagged_words = itertools.chain.from_iterable(nltk.pos_tag_sents(nltk.word_tokenize(sent) for sent in nltk.sent_tokenize(text)))\n",
        "\n",
        "    candidates = [word.lower() for word, tag in tagged_words\n",
        "                  if tag in good_tags and word.lower() not in stop_words\n",
        "                  and not all(char in punct for char in word)]\n",
        "\n",
        "    return candidates"
      ],
      "execution_count": null,
      "outputs": []
    },
    {
      "cell_type": "code",
      "metadata": {
        "id": "s5lIm_41B5gb",
        "colab": {
          "base_uri": "https://localhost:8080/",
          "height": 119
        },
        "outputId": "f451357a-f64d-416d-92c5-069bf0fe1529"
      },
      "source": [
        "nltk.download('stopwords')\n",
        "nltk.download('averaged_perceptron_tagger')"
      ],
      "execution_count": null,
      "outputs": [
        {
          "output_type": "stream",
          "text": [
            "[nltk_data] Downloading package stopwords to /root/nltk_data...\n",
            "[nltk_data]   Package stopwords is already up-to-date!\n",
            "[nltk_data] Downloading package averaged_perceptron_tagger to\n",
            "[nltk_data]     /root/nltk_data...\n",
            "[nltk_data]   Unzipping taggers/averaged_perceptron_tagger.zip.\n"
          ],
          "name": "stdout"
        },
        {
          "output_type": "execute_result",
          "data": {
            "text/plain": [
              "True"
            ]
          },
          "metadata": {
            "tags": []
          },
          "execution_count": 20
        }
      ]
    },
    {
      "cell_type": "code",
      "metadata": {
        "id": "MCyjqtqACBeq"
      },
      "source": [
        "def score_keyphrases_by_textrank(text, n_keywords=0.5):\n",
        "    from itertools import takewhile, tee#, izip\n",
        "    import networkx, nltk\n",
        "    \n",
        "    words = [word.lower()\n",
        "             for sent in nltk.sent_tokenize(text)\n",
        "             for word in nltk.word_tokenize(sent)]\n",
        "    candidates = extract_candidate_words(text)\n",
        "    graph = networkx.Graph()\n",
        "    graph.add_nodes_from(set(candidates))\n",
        "\n",
        "    def pairwise(iterable):\n",
        "        a, b = tee(iterable)\n",
        "        next(b, None)\n",
        "        return zip(a, b)\n",
        "        \n",
        "    for w1, w2 in pairwise(candidates):\n",
        "        if w2:\n",
        "            graph.add_edge(*sorted([w1, w2]))\n",
        "    ranks = networkx.pagerank(graph)\n",
        "    if 0 < n_keywords < 1:\n",
        "        n_keywords = int(round(len(candidates) * n_keywords))\n",
        "    word_ranks = {word_rank[0]: word_rank[1]\n",
        "                  for word_rank in sorted(ranks.items(), key=lambda x: x[1], reverse=True)[:n_keywords]}\n",
        "    keywords = set(word_ranks.keys())\n",
        "    keyphrases = {}\n",
        "    j = 0\n",
        "    for i, word in enumerate(words):\n",
        "        if i < j:\n",
        "            continue\n",
        "        if word in keywords:\n",
        "            kp_words = list(takewhile(lambda x: x in keywords, words[i:i+10]))\n",
        "            avg_pagerank = sum(word_ranks[w] for w in kp_words) / float(len(kp_words))\n",
        "            keyphrases[' '.join(kp_words)] = avg_pagerank\n",
        "            j = i + len(kp_words)\n",
        "    \n",
        "    return sorted(keyphrases.items(), key=lambda x: x[1], reverse=True)"
      ],
      "execution_count": null,
      "outputs": []
    },
    {
      "cell_type": "code",
      "metadata": {
        "id": "Knu8t3v1CFKi",
        "colab": {
          "base_uri": "https://localhost:8080/",
          "height": 34
        },
        "outputId": "e4b18a54-333e-4143-b522-4fc49ffb4f1f"
      },
      "source": [
        "import datetime\n",
        "a = datetime.datetime.now() \n",
        "\n",
        "df2['tag_graph'] = df2.apply(lambda row: (score_keyphrases_by_textrank(row['Review'])),axis=1)\n",
        "b = datetime.datetime.now() \n",
        "print(b-a)"
      ],
      "execution_count": null,
      "outputs": [
        {
          "output_type": "stream",
          "text": [
            "0:00:24.556555\n"
          ],
          "name": "stdout"
        }
      ]
    },
    {
      "cell_type": "code",
      "metadata": {
        "id": "yH_xNnXbRHWC",
        "colab": {
          "base_uri": "https://localhost:8080/",
          "height": 34
        },
        "outputId": "ea0c382c-77af-4e80-8207-99f84c6d0606"
      },
      "source": [
        "df2.to_excel(\"tags.xlsx\")\n",
        "from google.colab import files\n",
        "files.download(\"tags.xlsx\")"
      ],
      "execution_count": null,
      "outputs": [
        {
          "output_type": "display_data",
          "data": {
            "application/javascript": [
              "\n",
              "    async function download(id, filename, size) {\n",
              "      if (!google.colab.kernel.accessAllowed) {\n",
              "        return;\n",
              "      }\n",
              "      const div = document.createElement('div');\n",
              "      const label = document.createElement('label');\n",
              "      label.textContent = `Downloading \"${filename}\": `;\n",
              "      div.appendChild(label);\n",
              "      const progress = document.createElement('progress');\n",
              "      progress.max = size;\n",
              "      div.appendChild(progress);\n",
              "      document.body.appendChild(div);\n",
              "\n",
              "      const buffers = [];\n",
              "      let downloaded = 0;\n",
              "\n",
              "      const channel = await google.colab.kernel.comms.open(id);\n",
              "      // Send a message to notify the kernel that we're ready.\n",
              "      channel.send({})\n",
              "\n",
              "      for await (const message of channel.messages) {\n",
              "        // Send a message to notify the kernel that we're ready.\n",
              "        channel.send({})\n",
              "        if (message.buffers) {\n",
              "          for (const buffer of message.buffers) {\n",
              "            buffers.push(buffer);\n",
              "            downloaded += buffer.byteLength;\n",
              "            progress.value = downloaded;\n",
              "          }\n",
              "        }\n",
              "      }\n",
              "      const blob = new Blob(buffers, {type: 'application/binary'});\n",
              "      const a = document.createElement('a');\n",
              "      a.href = window.URL.createObjectURL(blob);\n",
              "      a.download = filename;\n",
              "      div.appendChild(a);\n",
              "      a.click();\n",
              "      div.remove();\n",
              "    }\n",
              "  "
            ],
            "text/plain": [
              "<IPython.core.display.Javascript object>"
            ]
          },
          "metadata": {
            "tags": []
          }
        },
        {
          "output_type": "display_data",
          "data": {
            "application/javascript": [
              "download(\"download_57cf7f3e-7edb-434c-b648-5becf2ad5221\", \"tags.xlsx\", 866083)"
            ],
            "text/plain": [
              "<IPython.core.display.Javascript object>"
            ]
          },
          "metadata": {
            "tags": []
          }
        }
      ]
    },
    {
      "cell_type": "code",
      "metadata": {
        "id": "JhW4JAVrsI9T",
        "colab": {
          "base_uri": "https://localhost:8080/",
          "height": 289
        },
        "outputId": "822d3cfd-fceb-4415-fe01-24eaa6571f94"
      },
      "source": [
        "df2.tail()"
      ],
      "execution_count": null,
      "outputs": [
        {
          "output_type": "execute_result",
          "data": {
            "text/html": [
              "<div>\n",
              "<style scoped>\n",
              "    .dataframe tbody tr th:only-of-type {\n",
              "        vertical-align: middle;\n",
              "    }\n",
              "\n",
              "    .dataframe tbody tr th {\n",
              "        vertical-align: top;\n",
              "    }\n",
              "\n",
              "    .dataframe thead th {\n",
              "        text-align: right;\n",
              "    }\n",
              "</style>\n",
              "<table border=\"1\" class=\"dataframe\">\n",
              "  <thead>\n",
              "    <tr style=\"text-align: right;\">\n",
              "      <th></th>\n",
              "      <th>App</th>\n",
              "      <th>Review</th>\n",
              "      <th>tag_BERT</th>\n",
              "      <th>tag_RAKE</th>\n",
              "      <th>tag_graph</th>\n",
              "    </tr>\n",
              "  </thead>\n",
              "  <tbody>\n",
              "    <tr>\n",
              "      <th>2995</th>\n",
              "      <td>Mobikwik</td>\n",
              "      <td>Very convenient for all payments and redemptio...</td>\n",
              "      <td>[(payback points, 0.7689600521483594), (cash, ...</td>\n",
              "      <td>[(4.0, payback points)]</td>\n",
              "      <td>[(payments, 0.19939773459751797), (payback poi...</td>\n",
              "    </tr>\n",
              "    <tr>\n",
              "      <th>2996</th>\n",
              "      <td>Mobikwik</td>\n",
              "      <td>Nice and quick payment app, made in India also...</td>\n",
              "      <td>[(quick payment app, 0.5504587355963303), (sup...</td>\n",
              "      <td>[(9.0, supercash policy changed), (9.0, quick ...</td>\n",
              "      <td>[(quick payment, 0.1421904374218091), (superca...</td>\n",
              "    </tr>\n",
              "    <tr>\n",
              "      <th>2997</th>\n",
              "      <td>Mobikwik</td>\n",
              "      <td>This is a fake app for loan. They dont provide...</td>\n",
              "      <td>[(credit riak score, 0.41094070872828775), (cr...</td>\n",
              "      <td>[(9.0, dont waste time), (8.5, dont provide lo...</td>\n",
              "      <td>[(loan, 0.14429135857755243), (provode loan, 0...</td>\n",
              "    </tr>\n",
              "    <tr>\n",
              "      <th>2998</th>\n",
              "      <td>Mobikwik</td>\n",
              "      <td>There is no customer care phone number. Only e...</td>\n",
              "      <td>[(customer care phone number, 0.20131302911925...</td>\n",
              "      <td>[(9.0, sent several messages), (9.0, full kyc ...</td>\n",
              "      <td>[(app, 0.06502933142602284), (error, 0.0633131...</td>\n",
              "    </tr>\n",
              "    <tr>\n",
              "      <th>2999</th>\n",
              "      <td>Mobikwik</td>\n",
              "      <td>Using this App again after long time....This a...</td>\n",
              "      <td>[(great update, 0.1265121173639213), (pdf form...</td>\n",
              "      <td>[(9.0, long time ....), (9.0, great update ..)...</td>\n",
              "      <td>[(app, 0.07306122837355379), (great, 0.0411169...</td>\n",
              "    </tr>\n",
              "  </tbody>\n",
              "</table>\n",
              "</div>"
            ],
            "text/plain": [
              "           App  ...                                          tag_graph\n",
              "2995  Mobikwik  ...  [(payments, 0.19939773459751797), (payback poi...\n",
              "2996  Mobikwik  ...  [(quick payment, 0.1421904374218091), (superca...\n",
              "2997  Mobikwik  ...  [(loan, 0.14429135857755243), (provode loan, 0...\n",
              "2998  Mobikwik  ...  [(app, 0.06502933142602284), (error, 0.0633131...\n",
              "2999  Mobikwik  ...  [(app, 0.07306122837355379), (great, 0.0411169...\n",
              "\n",
              "[5 rows x 5 columns]"
            ]
          },
          "metadata": {
            "tags": []
          },
          "execution_count": 39
        }
      ]
    },
    {
      "cell_type": "code",
      "metadata": {
        "id": "6-XC3mCNfb-p",
        "colab": {
          "base_uri": "https://localhost:8080/",
          "height": 102
        },
        "outputId": "c04f6fc6-d9da-42e6-9d8a-7c4951a934eb"
      },
      "source": [
        "#keyphrase[\"tag_graph\"] = df2[\"tag_graph\"]\n",
        "for j in range(len(df2)):\n",
        "  tag = []\n",
        "  for i in df2[\"tag_graph\"][j]:\n",
        "    tag.append(i[0])\n",
        "    df2[\"tag_graph\"][j] = tag\n",
        "  #df2[\"tag_graph\"][0][0][0]"
      ],
      "execution_count": null,
      "outputs": [
        {
          "output_type": "stream",
          "text": [
            "/usr/local/lib/python3.6/dist-packages/IPython/core/interactiveshell.py:2882: SettingWithCopyWarning: \n",
            "A value is trying to be set on a copy of a slice from a DataFrame\n",
            "\n",
            "See the caveats in the documentation: https://pandas.pydata.org/pandas-docs/stable/user_guide/indexing.html#returning-a-view-versus-a-copy\n",
            "  exec(code_obj, self.user_global_ns, self.user_ns)\n"
          ],
          "name": "stderr"
        }
      ]
    },
    {
      "cell_type": "code",
      "metadata": {
        "id": "iUaO1aw4Dt8L",
        "colab": {
          "base_uri": "https://localhost:8080/",
          "height": 769
        },
        "outputId": "41213dc9-670f-48b8-d56c-fdbdacc90eae"
      },
      "source": [
        "df2"
      ],
      "execution_count": null,
      "outputs": [
        {
          "output_type": "execute_result",
          "data": {
            "text/html": [
              "<div>\n",
              "<style scoped>\n",
              "    .dataframe tbody tr th:only-of-type {\n",
              "        vertical-align: middle;\n",
              "    }\n",
              "\n",
              "    .dataframe tbody tr th {\n",
              "        vertical-align: top;\n",
              "    }\n",
              "\n",
              "    .dataframe thead th {\n",
              "        text-align: right;\n",
              "    }\n",
              "</style>\n",
              "<table border=\"1\" class=\"dataframe\">\n",
              "  <thead>\n",
              "    <tr style=\"text-align: right;\">\n",
              "      <th></th>\n",
              "      <th>App_x</th>\n",
              "      <th>Review_x</th>\n",
              "      <th>tag_BERT</th>\n",
              "      <th>tag_RAKE</th>\n",
              "      <th>tag_graph</th>\n",
              "    </tr>\n",
              "  </thead>\n",
              "  <tbody>\n",
              "    <tr>\n",
              "      <th>0</th>\n",
              "      <td>Axis Bank</td>\n",
              "      <td>[\"The app is all good. I am using the account ...</td>\n",
              "      <td>[update atm center, bad condition, good work]</td>\n",
              "      <td>[good work, bad condition]</td>\n",
              "      <td>[app, bank app, axis app, mobile app, good app...</td>\n",
              "    </tr>\n",
              "    <tr>\n",
              "      <th>1</th>\n",
              "      <td>Citi</td>\n",
              "      <td>['Experience is good. Easy to use due to norma...</td>\n",
              "      <td>[transactions update delay, tiresome process, ...</td>\n",
              "      <td>[transactions update delay, tiresome process, ...</td>\n",
              "      <td>[app, citi app, good app, app unable, citibank...</td>\n",
              "    </tr>\n",
              "    <tr>\n",
              "      <th>2</th>\n",
              "      <td>Freecharge</td>\n",
              "      <td>['Far better than prior years. Thanks to its r...</td>\n",
              "      <td>[account section, colourful app, better]</td>\n",
              "      <td>[colourful app without, account section could]</td>\n",
              "      <td>[app, freecharge app, good app, payment app, u...</td>\n",
              "    </tr>\n",
              "    <tr>\n",
              "      <th>3</th>\n",
              "      <td>HDFC Bank</td>\n",
              "      <td>[\"Poor app. Irritating errors. Unable to load ...</td>\n",
              "      <td>[app development n design, savings bank accoun...</td>\n",
              "      <td>[see required info, user friendly, separate se...</td>\n",
              "      <td>[app, hdfc app, bank app, good app, new app, o...</td>\n",
              "    </tr>\n",
              "    <tr>\n",
              "      <th>4</th>\n",
              "      <td>HSBC</td>\n",
              "      <td>['I never used a worst banking app like this. ...</td>\n",
              "      <td>[worst banking experience, imps, option]</td>\n",
              "      <td>[]</td>\n",
              "      <td>[app, hsbc app, banking app, new app, worst ap...</td>\n",
              "    </tr>\n",
              "    <tr>\n",
              "      <th>5</th>\n",
              "      <td>ICICI Bank</td>\n",
              "      <td>['The latest update has slowed the app drastic...</td>\n",
              "      <td>[customer care, bad experience, recent months]</td>\n",
              "      <td>[bad experience even, working good, session ex...</td>\n",
              "      <td>[app, app issue, banking app, good app, app ve...</td>\n",
              "    </tr>\n",
              "    <tr>\n",
              "      <th>6</th>\n",
              "      <td>Kotak Bank</td>\n",
              "      <td>[\"Im unable to login from the last one month. ...</td>\n",
              "      <td>[quick transactions, friendly, easier]</td>\n",
              "      <td>[user friendly, stands rectified, quick transa...</td>\n",
              "      <td>[app, bank app, kotak app, banking app, good a...</td>\n",
              "    </tr>\n",
              "    <tr>\n",
              "      <th>7</th>\n",
              "      <td>Mobikwik</td>\n",
              "      <td>['It seems there is a serious issue with this ...</td>\n",
              "      <td>[great update, pdf format, % recommend]</td>\n",
              "      <td>[long time ...., great update .., done .. espi...</td>\n",
              "      <td>[app, mobikwik app, worst app, upi app, good a...</td>\n",
              "    </tr>\n",
              "    <tr>\n",
              "      <th>8</th>\n",
              "      <td>PayTM</td>\n",
              "      <td>[\"Very bad experience. Quite for forever Many ...</td>\n",
              "      <td>[longer time duration, frustrating, error]</td>\n",
              "      <td>[always shows error]</td>\n",
              "      <td>[app, paytm app, app problem, app update, payt...</td>\n",
              "    </tr>\n",
              "    <tr>\n",
              "      <th>9</th>\n",
              "      <td>PayZapp</td>\n",
              "      <td>['app is not opening in android 10 device. my ...</td>\n",
              "      <td>[other online purchase, taquinical error shows...</td>\n",
              "      <td>[give 1 star, give 0 star, add little amount]</td>\n",
              "      <td>[app, payment app, payzapp app, app recharge, ...</td>\n",
              "    </tr>\n",
              "    <tr>\n",
              "      <th>10</th>\n",
              "      <td>PhonePe</td>\n",
              "      <td>[\"I am using this app from last 4 years, from ...</td>\n",
              "      <td>[transaction status update delay, customer ser...</td>\n",
              "      <td>[update transaction status, responsibility esc...</td>\n",
              "      <td>[app, app developers app, bank app, problem ap...</td>\n",
              "    </tr>\n",
              "    <tr>\n",
              "      <th>11</th>\n",
              "      <td>Pockets</td>\n",
              "      <td>['Having problems making payments ,it fetches ...</td>\n",
              "      <td>[useless app, kyc, unable]</td>\n",
              "      <td>[useless app, complete kyc]</td>\n",
              "      <td>[app, app app, app money, pockets app, wallet ...</td>\n",
              "    </tr>\n",
              "    <tr>\n",
              "      <th>12</th>\n",
              "      <td>SBI Cards</td>\n",
              "      <td>['App is good. but services are not up to mark...</td>\n",
              "      <td>[little bit issue, reward section, speed]</td>\n",
              "      <td>[little bit issue, understand .., scrolling sp...</td>\n",
              "      <td>[app, card app, sbi app, app issue, sbi card a...</td>\n",
              "    </tr>\n",
              "    <tr>\n",
              "      <th>13</th>\n",
              "      <td>StandardChartered</td>\n",
              "      <td>[\"Love that transactions are posted immediatel...</td>\n",
              "      <td>[aftrr several attempts, frustrating, otp]</td>\n",
              "      <td>[]</td>\n",
              "      <td>[otp, app, login otp, otp login, time otp, app...</td>\n",
              "    </tr>\n",
              "    <tr>\n",
              "      <th>14</th>\n",
              "      <td>Yono</td>\n",
              "      <td>['The app is not at all good in its latest ver...</td>\n",
              "      <td>[second account, account derails, bad applicat...</td>\n",
              "      <td>[really bad application, account derails check...</td>\n",
              "      <td>[app, sbi app, time app, bank app, yono app, t...</td>\n",
              "    </tr>\n",
              "  </tbody>\n",
              "</table>\n",
              "</div>"
            ],
            "text/plain": [
              "                App_x  ...                                          tag_graph\n",
              "0           Axis Bank  ...  [app, bank app, axis app, mobile app, good app...\n",
              "1                Citi  ...  [app, citi app, good app, app unable, citibank...\n",
              "2          Freecharge  ...  [app, freecharge app, good app, payment app, u...\n",
              "3           HDFC Bank  ...  [app, hdfc app, bank app, good app, new app, o...\n",
              "4                HSBC  ...  [app, hsbc app, banking app, new app, worst ap...\n",
              "5          ICICI Bank  ...  [app, app issue, banking app, good app, app ve...\n",
              "6          Kotak Bank  ...  [app, bank app, kotak app, banking app, good a...\n",
              "7            Mobikwik  ...  [app, mobikwik app, worst app, upi app, good a...\n",
              "8               PayTM  ...  [app, paytm app, app problem, app update, payt...\n",
              "9             PayZapp  ...  [app, payment app, payzapp app, app recharge, ...\n",
              "10            PhonePe  ...  [app, app developers app, bank app, problem ap...\n",
              "11            Pockets  ...  [app, app app, app money, pockets app, wallet ...\n",
              "12          SBI Cards  ...  [app, card app, sbi app, app issue, sbi card a...\n",
              "13  StandardChartered  ...  [otp, app, login otp, otp login, time otp, app...\n",
              "14               Yono  ...  [app, sbi app, time app, bank app, yono app, t...\n",
              "\n",
              "[15 rows x 5 columns]"
            ]
          },
          "metadata": {
            "tags": []
          },
          "execution_count": 45
        }
      ]
    },
    {
      "cell_type": "code",
      "metadata": {
        "id": "NHMBTysFc9N3"
      },
      "source": [
        ""
      ],
      "execution_count": null,
      "outputs": []
    }
  ]
}